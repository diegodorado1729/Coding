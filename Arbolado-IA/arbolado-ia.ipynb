{
 "cells": [
  {
   "cell_type": "markdown",
   "id": "14cb1ea9",
   "metadata": {},
   "source": [
    "# Arbolado IA\n",
    "-------"
   ]
  },
  {
   "cell_type": "markdown",
   "id": "4222edc4",
   "metadata": {
    "vscode": {
     "languageId": "plaintext"
    }
   },
   "source": [
    "### Paquetes\n",
    "---"
   ]
  },
  {
   "cell_type": "code",
   "execution_count": null,
   "id": "824891a5",
   "metadata": {},
   "outputs": [],
   "source": [
    "# General\n",
    "import ast\n",
    "import json\n",
    "import numpy as np\n",
    "import matplotlib.pyplot as plt\n",
    "import pandas as pd\n",
    "import seaborn as sns\n",
    "import scipy.stats as stats\n",
    "\n",
    "from time import time\n",
    "from sklearn import metrics\n",
    "from sklearn.pipeline import make_pipeline\n",
    "from sklearn.preprocessing import StandardScaler\n",
    "\n",
    "# preprocessing\n",
    "from sklearn.preprocessing import LabelEncoder\n",
    "from sklearn.preprocessing import MinMaxScaler\n",
    "\n",
    "# metrics\n",
    "from sklearn.metrics import (accuracy_score, recall_score, precision_score, f1_score)\n",
    "from sklearn.utils.class_weight import compute_class_weight\n",
    "from sklearn.utils.class_weight import compute_sample_weight\n",
    "from sklearn.utils import resample\n",
    "from sklearn.metrics import classification_report, confusion_matrix, ConfusionMatrixDisplay\n",
    "from sklearn.metrics import RocCurveDisplay\n",
    "\n",
    "# sklearn & XGB\n",
    "from sklearn.ensemble import RandomForestRegressor\n",
    "from sklearn.ensemble import RandomForestClassifier\n",
    "from sklearn.tree import DecisionTreeClassifier\n",
    "from sklearn.model_selection import train_test_split\n",
    "from sklearn.metrics import mean_squared_error, r2_score\n",
    "from sklearn.metrics import accuracy_score, classification_report, confusion_matrix\n",
    "from sklearn.impute import SimpleImputer\n",
    "\n",
    "import xgboost as xgb\n",
    "from xgboost import XGBRegressor \n",
    "from xgboost import XGBClassifier\n",
    "\n",
    "\n",
    "\n",
    "# imbalanced-learn\n",
    "from imblearn.over_sampling import SMOTE\n",
    "from imblearn.over_sampling import SMOTENC\n",
    "from imblearn.under_sampling import RandomUnderSampler\n",
    "\n",
    "# model_selection\n",
    "from sklearn.model_selection import GridSearchCV, train_test_split, StratifiedShuffleSplit"
   ]
  },
  {
   "cell_type": "markdown",
   "id": "d5e9f575",
   "metadata": {},
   "source": [
    "### Carga de datos\n",
    "----"
   ]
  },
  {
   "cell_type": "code",
   "execution_count": 2,
   "id": "9f63dfea",
   "metadata": {},
   "outputs": [],
   "source": [
    "# Carga de datos\n",
    "df1 = pd.read_csv('./data-arbolado-junior.csv')\n",
    "df1 = df1.drop(columns=['id'])\n",
    "df2 = pd.read_csv('./data-arbolado-crisol.csv')\n",
    "df3 = pd.read_csv('./data-arbolado-gralpaz.csv')\n",
    "\n",
    "df = pd.concat([df1, df2, df3])"
   ]
  },
  {
   "cell_type": "code",
   "execution_count": 3,
   "id": "34b1c82a",
   "metadata": {},
   "outputs": [
    {
     "name": "stdout",
     "output_type": "stream",
     "text": [
      "El tamaño del DataFrame es: \n",
      "\n",
      "Shape: (7970, 28)\n"
     ]
    },
    {
     "data": {
      "text/html": [
       "<div>\n",
       "<style scoped>\n",
       "    .dataframe tbody tr th:only-of-type {\n",
       "        vertical-align: middle;\n",
       "    }\n",
       "\n",
       "    .dataframe tbody tr th {\n",
       "        vertical-align: top;\n",
       "    }\n",
       "\n",
       "    .dataframe thead th {\n",
       "        text-align: right;\n",
       "    }\n",
       "</style>\n",
       "<table border=\"1\" class=\"dataframe\">\n",
       "  <thead>\n",
       "    <tr style=\"text-align: right;\">\n",
       "      <th></th>\n",
       "      <th>fecha</th>\n",
       "      <th>latitud</th>\n",
       "      <th>longitud</th>\n",
       "      <th>direccion</th>\n",
       "      <th>barrioNombre</th>\n",
       "      <th>altura</th>\n",
       "      <th>fuste</th>\n",
       "      <th>faseVital</th>\n",
       "      <th>estadoFitosanitario</th>\n",
       "      <th>inclinacion</th>\n",
       "      <th>...</th>\n",
       "      <th>intervenciones</th>\n",
       "      <th>distForestalAdecuada</th>\n",
       "      <th>interf</th>\n",
       "      <th>cazuela</th>\n",
       "      <th>levantamientoVereda</th>\n",
       "      <th>observaciones</th>\n",
       "      <th>especieNombre</th>\n",
       "      <th>lugarRelevamientoNombre</th>\n",
       "      <th>tipoLugarNombre</th>\n",
       "      <th>Observaciones</th>\n",
       "    </tr>\n",
       "  </thead>\n",
       "  <tbody>\n",
       "    <tr>\n",
       "      <th>0</th>\n",
       "      <td>7/2/2018</td>\n",
       "      <td>-31.418802</td>\n",
       "      <td>-64.170274</td>\n",
       "      <td>906</td>\n",
       "      <td>Juniors</td>\n",
       "      <td>Entre 4m. y 7m.</td>\n",
       "      <td>Entre 0,10m. y 0,40m.</td>\n",
       "      <td>Maduro</td>\n",
       "      <td>Bueno</td>\n",
       "      <td>No</td>\n",
       "      <td>...</td>\n",
       "      <td>Mantenimiento</td>\n",
       "      <td>True</td>\n",
       "      <td>False</td>\n",
       "      <td>Inadecuada</td>\n",
       "      <td>Leve</td>\n",
       "      <td>NaN</td>\n",
       "      <td>Palmera Pindó</td>\n",
       "      <td>Americo Vespucio 900-1000</td>\n",
       "      <td>Calle</td>\n",
       "      <td>NaN</td>\n",
       "    </tr>\n",
       "    <tr>\n",
       "      <th>1</th>\n",
       "      <td>7/2/2018</td>\n",
       "      <td>-31.418807</td>\n",
       "      <td>-64.170212</td>\n",
       "      <td>916</td>\n",
       "      <td>Juniors</td>\n",
       "      <td>Entre 4m. y 7m.</td>\n",
       "      <td>Entre 0,10m. y 0,40m.</td>\n",
       "      <td>Maduro</td>\n",
       "      <td>Regular</td>\n",
       "      <td>Leve</td>\n",
       "      <td>...</td>\n",
       "      <td>Mantenimiento</td>\n",
       "      <td>True</td>\n",
       "      <td>True</td>\n",
       "      <td>Adecuada</td>\n",
       "      <td>Leve</td>\n",
       "      <td>NaN</td>\n",
       "      <td>Siempre Verde</td>\n",
       "      <td>Americo Vespucio 900-1000</td>\n",
       "      <td>Calle</td>\n",
       "      <td>NaN</td>\n",
       "    </tr>\n",
       "    <tr>\n",
       "      <th>2</th>\n",
       "      <td>7/2/2018</td>\n",
       "      <td>-31.418807</td>\n",
       "      <td>-64.170161</td>\n",
       "      <td>924</td>\n",
       "      <td>Juniors</td>\n",
       "      <td>Menor a 4m.</td>\n",
       "      <td>Entre 0,10m. y 0,40m.</td>\n",
       "      <td>Maduro</td>\n",
       "      <td>Bueno</td>\n",
       "      <td>No</td>\n",
       "      <td>...</td>\n",
       "      <td>Mantenimiento</td>\n",
       "      <td>True</td>\n",
       "      <td>False</td>\n",
       "      <td>Franja Verde</td>\n",
       "      <td>No</td>\n",
       "      <td>NaN</td>\n",
       "      <td>Crespón</td>\n",
       "      <td>Americo Vespucio 900-1000</td>\n",
       "      <td>Calle</td>\n",
       "      <td>NaN</td>\n",
       "    </tr>\n",
       "    <tr>\n",
       "      <th>3</th>\n",
       "      <td>7/2/2018</td>\n",
       "      <td>-31.418832</td>\n",
       "      <td>-64.170114</td>\n",
       "      <td>930</td>\n",
       "      <td>Juniors</td>\n",
       "      <td>Entre 7m. y 10m.</td>\n",
       "      <td>Entre 0,10m. y 0,40m.</td>\n",
       "      <td>Maduro</td>\n",
       "      <td>Bueno</td>\n",
       "      <td>Leve</td>\n",
       "      <td>...</td>\n",
       "      <td>Mantenimiento</td>\n",
       "      <td>True</td>\n",
       "      <td>False</td>\n",
       "      <td>Franja Verde</td>\n",
       "      <td>No</td>\n",
       "      <td>NaN</td>\n",
       "      <td>Guaran Amarillo</td>\n",
       "      <td>Americo Vespucio 900-1000</td>\n",
       "      <td>Calle</td>\n",
       "      <td>NaN</td>\n",
       "    </tr>\n",
       "    <tr>\n",
       "      <th>4</th>\n",
       "      <td>7/2/2018</td>\n",
       "      <td>-31.418868</td>\n",
       "      <td>-64.169999</td>\n",
       "      <td>932</td>\n",
       "      <td>Juniors</td>\n",
       "      <td>Menor a 4m.</td>\n",
       "      <td>Menor a 0,10m.</td>\n",
       "      <td>Maduro</td>\n",
       "      <td>Bueno</td>\n",
       "      <td>No</td>\n",
       "      <td>...</td>\n",
       "      <td>Mantenimiento</td>\n",
       "      <td>True</td>\n",
       "      <td>False</td>\n",
       "      <td>Franja Verde</td>\n",
       "      <td>No</td>\n",
       "      <td>NaN</td>\n",
       "      <td>Ficus Benjamina</td>\n",
       "      <td>Americo Vespucio 900-1000</td>\n",
       "      <td>Calle</td>\n",
       "      <td>NaN</td>\n",
       "    </tr>\n",
       "  </tbody>\n",
       "</table>\n",
       "<p>5 rows × 28 columns</p>\n",
       "</div>"
      ],
      "text/plain": [
       "      fecha    latitud   longitud direccion barrioNombre            altura  \\\n",
       "0  7/2/2018 -31.418802 -64.170274       906      Juniors   Entre 4m. y 7m.   \n",
       "1  7/2/2018 -31.418807 -64.170212       916      Juniors   Entre 4m. y 7m.   \n",
       "2  7/2/2018 -31.418807 -64.170161       924      Juniors       Menor a 4m.   \n",
       "3  7/2/2018 -31.418832 -64.170114       930      Juniors  Entre 7m. y 10m.   \n",
       "4  7/2/2018 -31.418868 -64.169999       932      Juniors       Menor a 4m.   \n",
       "\n",
       "                   fuste faseVital estadoFitosanitario inclinacion  ...  \\\n",
       "0  Entre 0,10m. y 0,40m.    Maduro               Bueno          No  ...   \n",
       "1  Entre 0,10m. y 0,40m.    Maduro             Regular        Leve  ...   \n",
       "2  Entre 0,10m. y 0,40m.    Maduro               Bueno          No  ...   \n",
       "3  Entre 0,10m. y 0,40m.    Maduro               Bueno        Leve  ...   \n",
       "4         Menor a 0,10m.    Maduro               Bueno          No  ...   \n",
       "\n",
       "  intervenciones distForestalAdecuada interf       cazuela  \\\n",
       "0  Mantenimiento                 True  False    Inadecuada   \n",
       "1  Mantenimiento                 True   True      Adecuada   \n",
       "2  Mantenimiento                 True  False  Franja Verde   \n",
       "3  Mantenimiento                 True  False  Franja Verde   \n",
       "4  Mantenimiento                 True  False  Franja Verde   \n",
       "\n",
       "  levantamientoVereda observaciones    especieNombre  \\\n",
       "0                Leve           NaN    Palmera Pindó   \n",
       "1                Leve           NaN    Siempre Verde   \n",
       "2                  No           NaN          Crespón   \n",
       "3                  No           NaN  Guaran Amarillo   \n",
       "4                  No           NaN  Ficus Benjamina   \n",
       "\n",
       "     lugarRelevamientoNombre tipoLugarNombre Observaciones  \n",
       "0  Americo Vespucio 900-1000           Calle           NaN  \n",
       "1  Americo Vespucio 900-1000           Calle           NaN  \n",
       "2  Americo Vespucio 900-1000           Calle           NaN  \n",
       "3  Americo Vespucio 900-1000           Calle           NaN  \n",
       "4  Americo Vespucio 900-1000           Calle           NaN  \n",
       "\n",
       "[5 rows x 28 columns]"
      ]
     },
     "execution_count": 3,
     "metadata": {},
     "output_type": "execute_result"
    }
   ],
   "source": [
    "print(\"El tamaño del DataFrame es: \\n\")\n",
    "print(f'Shape: {df.shape}')\n",
    "\n",
    "df.head()"
   ]
  },
  {
   "cell_type": "markdown",
   "id": "aed092fd",
   "metadata": {},
   "source": [
    "## Ingeniería de Datos\n",
    "----"
   ]
  },
  {
   "cell_type": "code",
   "execution_count": 4,
   "id": "26ee4de0",
   "metadata": {},
   "outputs": [],
   "source": [
    "cols_to_drop = [\n",
    "    \"fecha\", \"latitud\", \"longitud\", \"direccion\", \n",
    "    \"barrioNombre\", \"observaciones\", \"lugarRelevamientoNombre\", \n",
    "    \"tipoLugarNombre\", \"Observaciones\"\n",
    "]\n",
    "df = df.drop(columns=cols_to_drop)"
   ]
  },
  {
   "cell_type": "code",
   "execution_count": 5,
   "id": "f012d669",
   "metadata": {},
   "outputs": [
    {
     "name": "stdout",
     "output_type": "stream",
     "text": [
      "Index(['altura', 'fuste', 'faseVital', 'estadoFitosanitario', 'inclinacion',\n",
      "       'ahuecamiento', 'problemaDesrames', 'problemaDescalzado',\n",
      "       'problemaFustePartido', 'problemaObjetoExtranio', 'problemaGrieta',\n",
      "       'problemaDesequilibrioCopa', 'manejoInadecuado', 'intervenciones',\n",
      "       'distForestalAdecuada', 'interf', 'cazuela', 'levantamientoVereda',\n",
      "       'especieNombre'],\n",
      "      dtype='object')\n"
     ]
    }
   ],
   "source": [
    "print(df.columns)"
   ]
  },
  {
   "cell_type": "markdown",
   "id": "c8b20cd4",
   "metadata": {},
   "source": [
    "### DataFrame discreto\n",
    "---"
   ]
  },
  {
   "cell_type": "code",
   "execution_count": 6,
   "id": "91af650a",
   "metadata": {},
   "outputs": [
    {
     "name": "stdout",
     "output_type": "stream",
     "text": [
      "Filas con al menos un NaN: 978\n"
     ]
    }
   ],
   "source": [
    "filas_con_nan = df.isna().any(axis=1)\n",
    "\n",
    "# Cantidad de filas con al menos un dato vacío\n",
    "print(f\"Filas con al menos un NaN: {filas_con_nan.sum()}\")\n",
    "\n",
    "# Filtrar esas filas\n",
    "df = df[~df.isna().any(axis=1)].copy()"
   ]
  },
  {
   "cell_type": "code",
   "execution_count": 7,
   "id": "1e016a4d",
   "metadata": {},
   "outputs": [],
   "source": [
    "label_maps = {}\n",
    "\n",
    "le = LabelEncoder()\n",
    "\n",
    "for col in df.columns:\n",
    "    # Ignora columnas completamente vacías\n",
    "    if df[col].dropna().empty:\n",
    "        continue\n",
    "\n",
    "    first_val = df[col].dropna().iloc[0]\n",
    "\n",
    "    # Columnas booleanas (True/False)\n",
    "    if isinstance(first_val, bool):\n",
    "        df[col] = df[col].astype('boolean').fillna(False).astype(int)\n",
    "    \n",
    "    elif col == 'especieNombre' or col == 'cazuela':\n",
    "        df[col] = le.fit_transform(df[col].astype(str))\n"
   ]
  },
  {
   "cell_type": "code",
   "execution_count": 8,
   "id": "c23d6212",
   "metadata": {},
   "outputs": [],
   "source": [
    "# Diccionarios de remapeo\n",
    "altura_map = {\n",
    "    'Menor a 4m.': 0,\n",
    "    'Entre 4m. y 7m.': 1,\n",
    "    'Entre 7m. y 10m.': 2,\n",
    "    'Mayor a 10m': 3\n",
    "}\n",
    "\n",
    "fuste_map = {\n",
    "    'Menor a 0,10m.': 0,\n",
    "    'Entre 0,10m. y 0,40m.': 1,\n",
    "    'Mayor 0,40m': 2,\n",
    "}\n",
    "\n",
    "estadoFitosanitario_map = {\n",
    "    'Bueno': 0,\n",
    "    'Regular': 1,\n",
    "    'Malo': 2,\n",
    "    'Muerto': 3\n",
    "}\n",
    "\n",
    "leve_no_severa_map = {\n",
    "    'No': 0,\n",
    "    'Leve': 1,\n",
    "    'Severa': 2\n",
    "}\n",
    "\n",
    "intervenciones_map = {\n",
    "    'Sin intervenciones': 0,\n",
    "    'Descopado': 1,\n",
    "    'Despunte': 2,\n",
    "    'Mantenimiento': 3,\n",
    "    'Raíces': 4,\n",
    "    'Tala': 5,\n",
    "    'Varias intervenciones': 6\n",
    "}\n",
    "\n",
    "levantamientoVereda_map = {\n",
    "    'No': 0,\n",
    "    'Leve': 1,\n",
    "    'Considerable': 2,\n",
    "}\n",
    "\n",
    "faseVital_map = {\n",
    "    \"Recién implantado\": 0,\n",
    "    \"Joven\": 1,\n",
    "    \"Maduro\": 2,\n",
    "    \"Añoso\": 3,\n",
    "    \"Decrépito\": 4\n",
    "}\n",
    "\n",
    "# Aplicar remapeos en df\n",
    "df['altura'] = df['altura'].map(altura_map)\n",
    "df['fuste'] = df['fuste'].map(fuste_map)\n",
    "df['estadoFitosanitario'] = df['estadoFitosanitario'].map(estadoFitosanitario_map)\n",
    "\n",
    "# Columnas que comparten clasificación\n",
    "for col in ['inclinacion', 'ahuecamiento', 'manejoInadecuado']:\n",
    "    df[col] = df[col].map(leve_no_severa_map)\n",
    "\n",
    "df['intervenciones'] = df['intervenciones'].map(intervenciones_map)\n",
    "df['levantamientoVereda'] = df['levantamientoVereda'].map(levantamientoVereda_map)\n",
    "df['faseVital'] = df['faseVital'].map(faseVital_map)\n",
    "\n",
    "# Actualizar label_maps\n",
    "label_maps.update({\n",
    "    'altura': altura_map,\n",
    "    'fuste': fuste_map,\n",
    "    'estadoFitosanitario': estadoFitosanitario_map,\n",
    "    'inclinacion': leve_no_severa_map,\n",
    "    'ahuecamiento': leve_no_severa_map,\n",
    "    'manejoInadecuado': leve_no_severa_map,\n",
    "    'intervenciones': intervenciones_map,\n",
    "    'levantamientoVereda': levantamientoVereda_map,\n",
    "    'faseVital': faseVital_map\n",
    "})\n"
   ]
  },
  {
   "cell_type": "code",
   "execution_count": 18,
   "id": "a6448764",
   "metadata": {},
   "outputs": [
    {
     "data": {
      "text/plain": [
       "estadoFitosanitario\n",
       "1    5427\n",
       "0    1142\n",
       "2     330\n",
       "3      93\n",
       "Name: count, dtype: int64"
      ]
     },
     "execution_count": 18,
     "metadata": {},
     "output_type": "execute_result"
    }
   ],
   "source": [
    "df[\"estadoFitosanitario\"].value_counts()"
   ]
  },
  {
   "cell_type": "markdown",
   "id": "5da13796",
   "metadata": {},
   "source": [
    "### DataFrame continuo\n",
    "----"
   ]
  },
  {
   "cell_type": "code",
   "execution_count": 9,
   "id": "028a6d89",
   "metadata": {},
   "outputs": [],
   "source": [
    "# Copiar el DataFrame original codificado\n",
    "df_cont = df.copy()\n",
    "\n",
    "# Quitar columna de especies\n",
    "#df_cont = df_cont.drop(columns=['especieNombre'])\n",
    "\n",
    "# One-hot encoding solo de la columna especieNombre\n",
    "df_cont = pd.get_dummies(df_cont, columns=['especieNombre'])\n",
    "\n",
    "# Inicializar el scaler\n",
    "scaler = MinMaxScaler()\n",
    "\n",
    "# Ajustar y transformar todas las columnas (o solo las que quieres escalar)\n",
    "df_cont[df_cont.columns] = scaler.fit_transform(df_cont[df_cont.columns])"
   ]
  },
  {
   "cell_type": "code",
   "execution_count": 14,
   "id": "28def805",
   "metadata": {},
   "outputs": [
    {
     "name": "stdout",
     "output_type": "stream",
     "text": [
      "Index(['altura', 'fuste', 'faseVital', 'estadoFitosanitario', 'inclinacion',\n",
      "       'ahuecamiento', 'problemaDesrames', 'problemaDescalzado',\n",
      "       'problemaFustePartido', 'problemaObjetoExtranio',\n",
      "       ...\n",
      "       'especieNombre_89', 'especieNombre_90', 'especieNombre_91',\n",
      "       'especieNombre_92', 'especieNombre_93', 'especieNombre_94',\n",
      "       'especieNombre_95', 'especieNombre_96', 'especieNombre_97',\n",
      "       'especieNombre_98'],\n",
      "      dtype='object', length=117)\n"
     ]
    }
   ],
   "source": [
    "print(df_cont.columns)"
   ]
  },
  {
   "cell_type": "markdown",
   "id": "c5c315c2",
   "metadata": {},
   "source": [
    "## Entrenamiento\n",
    "----"
   ]
  },
  {
   "cell_type": "markdown",
   "id": "18adf118",
   "metadata": {},
   "source": [
    "### XGBoost - Regressor \n",
    "---"
   ]
  },
  {
   "cell_type": "code",
   "execution_count": 105,
   "id": "af5ffd6a",
   "metadata": {},
   "outputs": [
    {
     "name": "stdout",
     "output_type": "stream",
     "text": [
      "RMSE: 0.1420628840357303\n",
      "R²: 0.2680704168993746\n"
     ]
    }
   ],
   "source": [
    "# Features (todas menos la columna objetivo)\n",
    "X_XGB = df_cont.drop(\"estadoFitosanitario\", axis=1)\n",
    "\n",
    "# Target (asegurarse de que sea numérico)\n",
    "y_XGB = df_cont[\"estadoFitosanitario\"].astype(float)\n",
    "\n",
    "# Train/Test split\n",
    "X_train, X_test, y_train, y_test = train_test_split(\n",
    "    X_XGB, y_XGB, test_size=0.2, random_state=42\n",
    ")\n",
    "\n",
    "# Definir modelo XGBoost para regresión\n",
    "xgb_reg = XGBRegressor(\n",
    "    n_estimators=300,\n",
    "    learning_rate=0.1,\n",
    "    max_depth=6,\n",
    "    subsample=0.8,\n",
    "    colsample_bytree=0.8,\n",
    "    random_state=42,\n",
    "    n_jobs=-1\n",
    ")\n",
    "\n",
    "# Entrenar\n",
    "xgb_reg.fit(X_train, y_train)\n",
    "\n",
    "# Predecir\n",
    "y_pred = xgb_reg.predict(X_test)\n",
    "\n",
    "# Evaluar con métricas de regresión\n",
    "rmse = np.sqrt(mean_squared_error(y_test, y_pred))\n",
    "r2 = r2_score(y_test, y_pred)\n",
    "\n",
    "print(\"RMSE:\", rmse)\n",
    "print(\"R²:\", r2)\n"
   ]
  },
  {
   "cell_type": "code",
   "execution_count": 106,
   "id": "a1929aff",
   "metadata": {},
   "outputs": [
    {
     "name": "stdout",
     "output_type": "stream",
     "text": [
      "faseVital             0.042451\n",
      "problemaDesrames      0.028943\n",
      "manejoInadecuado      0.026872\n",
      "especieNombre_70      0.023651\n",
      "problemaDescalzado    0.021992\n",
      "                        ...   \n",
      "especieNombre_51      0.000000\n",
      "especieNombre_81      0.000000\n",
      "especieNombre_69      0.000000\n",
      "especieNombre_83      0.000000\n",
      "especieNombre_92      0.000000\n",
      "Length: 116, dtype: float32\n"
     ]
    },
    {
     "data": {
      "image/png": "[encoded data removed]",
      "text/plain": [
       "<Figure size 1000x600 with 1 Axes>"
      ]
     },
     "metadata": {},
     "output_type": "display_data"
    }
   ],
   "source": [
    "# Suponiendo que tu modelo se llama xgb_reg y tu DataFrame X\n",
    "feature_importances = pd.Series(\n",
    "    xgb_reg.feature_importances_,\n",
    "    index=X_XGB.columns\n",
    ").sort_values(ascending=False)\n",
    "\n",
    "# Mostrar importancia\n",
    "print(feature_importances)\n",
    "\n",
    "# Gráfico de barras\n",
    "plt.figure(figsize=(10,6))\n",
    "feature_importances.plot(kind='bar')\n",
    "plt.title(\"Importancia de las variables - XGBoost Regressor\")\n",
    "plt.ylabel(\"Importancia\")\n",
    "plt.xlabel(\"Características\")\n",
    "plt.xticks(rotation=45, ha='right')\n",
    "plt.tight_layout()\n",
    "plt.show()\n"
   ]
  },
  {
   "cell_type": "code",
   "execution_count": 107,
   "id": "23f39ae2",
   "metadata": {},
   "outputs": [],
   "source": [
    "# Lista de columnas a eliminar\n",
    "cols_a_eliminar = [\"cazuela\", \"problemaGrieta\", \"inclinacion\", \"distForestalAdecuada\", \"levantamientoVereda\",  \"problemaDesequilibrioCopa\", \"interf\"]\n",
    "\n",
    "# Crear un nuevo DataFrame solo con las columnas más importantes\n",
    "df_reducido = df_cont.drop(columns=cols_a_eliminar)\n"
   ]
  },
  {
   "cell_type": "code",
   "execution_count": 108,
   "id": "a5a3167e",
   "metadata": {},
   "outputs": [
    {
     "name": "stdout",
     "output_type": "stream",
     "text": [
      "RMSE: 0.14244117838723303\n",
      "R²: 0.2641671668366713\n"
     ]
    }
   ],
   "source": [
    "# Features (todas menos la columna objetivo)\n",
    "X = df_reducido.drop(\"estadoFitosanitario\", axis=1)\n",
    "\n",
    "# Target (asegurarse de que sea numérico)\n",
    "y = df_reducido[\"estadoFitosanitario\"].astype(float)\n",
    "\n",
    "# Train/Test split\n",
    "X_train, X_test, y_train, y_test = train_test_split(\n",
    "    X, y, test_size=0.2, random_state=42\n",
    ")\n",
    "\n",
    "# Definir modelo XGBoost para regresión\n",
    "xgb_reg = XGBRegressor(\n",
    "    n_estimators=300,\n",
    "    learning_rate=0.1,\n",
    "    max_depth=6,\n",
    "    subsample=0.8,\n",
    "    colsample_bytree=0.8,\n",
    "    random_state=42,\n",
    "    n_jobs=-1\n",
    ")\n",
    "\n",
    "# Entrenar\n",
    "xgb_reg.fit(X_train, y_train)\n",
    "\n",
    "# Predecir\n",
    "y_pred = xgb_reg.predict(X_test)\n",
    "\n",
    "# Evaluar con métricas de regresión\n",
    "rmse = np.sqrt(mean_squared_error(y_test, y_pred))\n",
    "r2 = r2_score(y_test, y_pred)\n",
    "\n",
    "print(\"RMSE:\", rmse)\n",
    "print(\"R²:\", r2)"
   ]
  },
  {
   "cell_type": "markdown",
   "id": "eb7f5db8",
   "metadata": {},
   "source": [
    "### XGBoost - Classifier\n",
    "---"
   ]
  },
  {
   "cell_type": "code",
   "execution_count": 24,
   "id": "8d9eff30",
   "metadata": {},
   "outputs": [
    {
     "name": "stdout",
     "output_type": "stream",
     "text": [
      "Accuracy: 0.8084345961401\n",
      "\n",
      "Classification Report:\n",
      "               precision    recall  f1-score   support\n",
      "\n",
      "           0       0.62      0.46      0.53       228\n",
      "           1       0.85      0.93      0.89      1086\n",
      "           2       0.38      0.14      0.20        66\n",
      "           3       0.55      0.32      0.40        19\n",
      "\n",
      "    accuracy                           0.81      1399\n",
      "   macro avg       0.60      0.46      0.50      1399\n",
      "weighted avg       0.78      0.81      0.79      1399\n",
      "\n"
     ]
    },
    {
     "data": {
      "text/plain": [
       "<sklearn.metrics._plot.confusion_matrix.ConfusionMatrixDisplay at 0x206101e7110>"
      ]
     },
     "execution_count": 24,
     "metadata": {},
     "output_type": "execute_result"
    },
    {
     "data": {
      "image/png": "[encoded data removed]",
      "text/plain": [
       "<Figure size 640x480 with 2 Axes>"
      ]
     },
     "metadata": {},
     "output_type": "display_data"
    }
   ],
   "source": [
    "# Features (todas menos la columna objetivo)\n",
    "X = df.drop(\"estadoFitosanitario\", axis=1)\n",
    "\n",
    "# Target (asegurarse de que sea entero)\n",
    "y = df[\"estadoFitosanitario\"].astype(int)\n",
    "\n",
    "# Train/Test split\n",
    "X_train, X_test, y_train, y_test = train_test_split(\n",
    "    X, y, test_size=0.2, random_state=42, stratify=y\n",
    ")\n",
    "\n",
    "# Definir modelo XGBoost para clasificación\n",
    "xgb_clf = XGBClassifier(\n",
    "    n_estimators=300,\n",
    "    learning_rate=0.1,\n",
    "    max_depth=6,\n",
    "    subsample=0.8,\n",
    "    colsample_bytree=0.8,\n",
    "    random_state=42,\n",
    "    n_jobs=-1\n",
    ")\n",
    "\n",
    "# Entrenar\n",
    "xgb_clf.fit(X_train, y_train)\n",
    "\n",
    "# Predecir\n",
    "y_pred = xgb_clf.predict(X_test)\n",
    "\n",
    "# Métricas de clasificación\n",
    "accuracy = accuracy_score(y_test, y_pred)\n",
    "print(\"Accuracy:\", accuracy)\n",
    "\n",
    "print(\"\\nClassification Report:\\n\", classification_report(y_test, y_pred))\n",
    "\n",
    "# Matriz de confusión\n",
    "disp_pre = ConfusionMatrixDisplay(confusion_matrix=confusion_matrix(y_test, y_pred), display_labels=[0,1,2,3])\n",
    "disp_pre.plot()\n"
   ]
  },
  {
   "cell_type": "markdown",
   "id": "bd7ffe2f",
   "metadata": {},
   "source": [
    "Para solventar el desbalanceo de clases que tienen los datos, primero vamos a optar por submuestreo de las clases mayoritarias, es este caso `Regualar` y `Bueno`"
   ]
  },
  {
   "cell_type": "code",
   "execution_count": 45,
   "id": "2d9ef013",
   "metadata": {},
   "outputs": [
    {
     "name": "stdout",
     "output_type": "stream",
     "text": [
      "Accuracy: 0.8120085775553967\n",
      "\n",
      "Classification Report:\n",
      "               precision    recall  f1-score   support\n",
      "\n",
      "           0       0.61      0.56      0.58       228\n",
      "           1       0.86      0.91      0.89      1086\n",
      "           2       0.41      0.24      0.30        66\n",
      "           3       0.80      0.21      0.33        19\n",
      "\n",
      "    accuracy                           0.81      1399\n",
      "   macro avg       0.67      0.48      0.53      1399\n",
      "weighted avg       0.80      0.81      0.80      1399\n",
      "\n"
     ]
    },
    {
     "data": {
      "text/plain": [
       "<sklearn.metrics._plot.confusion_matrix.ConfusionMatrixDisplay at 0x2068a5b8c90>"
      ]
     },
     "execution_count": 45,
     "metadata": {},
     "output_type": "execute_result"
    },
    {
     "data": {
      "image/png": "[encoded data removed]",
      "text/plain": [
       "<Figure size 640x480 with 2 Axes>"
      ]
     },
     "metadata": {},
     "output_type": "display_data"
    }
   ],
   "source": [
    "# Features y target\n",
    "X = df.drop(\"estadoFitosanitario\", axis=1)\n",
    "y = df[\"estadoFitosanitario\"].astype(int)\n",
    "\n",
    "# Split estratificado\n",
    "X_train, X_test, y_train, y_test = train_test_split(\n",
    "    X, y, test_size=0.2, random_state=42, stratify=y\n",
    ")\n",
    "\n",
    "imputer = SimpleImputer(strategy=\"mean\")\n",
    "X_train_imputed = imputer.fit_transform(X_train)\n",
    "\n",
    "# ---- Balancear SOLO el conjunto de entrenamiento ----\n",
    "smote = SMOTE(random_state=42)\n",
    "X_train_res, y_train_res = smote.fit_resample(X_train_imputed, y_train)\n",
    "\n",
    "# ---- Definir y entrenar modelo ----\n",
    "xgb_clf = XGBClassifier(\n",
    "    n_estimators=300,\n",
    "    learning_rate=0.1,\n",
    "    max_depth=6,\n",
    "    subsample=0.8,\n",
    "    colsample_bytree=0.8,\n",
    "    random_state=42,\n",
    "    n_jobs=-1,\n",
    ")\n",
    "\n",
    "xgb_clf.fit(X_train_res, y_train_res)\n",
    "\n",
    "# Predecir\n",
    "y_pred = xgb_clf.predict(X_test)\n",
    "\n",
    "# Métricas de clasificación\n",
    "accuracy = accuracy_score(y_test, y_pred)\n",
    "print(\"Accuracy:\", accuracy)\n",
    "\n",
    "print(\"\\nClassification Report:\\n\", classification_report(y_test, y_pred))\n",
    "\n",
    "# Matriz de confusión\n",
    "disp_pre = ConfusionMatrixDisplay(confusion_matrix=confusion_matrix(y_test, y_pred), display_labels=[0,1,2,3])\n",
    "disp_pre.plot()"
   ]
  },
  {
   "cell_type": "code",
   "execution_count": 48,
   "id": "348db517",
   "metadata": {},
   "outputs": [
    {
     "name": "stdout",
     "output_type": "stream",
     "text": [
      "Accuracy: 0.7676912080057183\n",
      "\n",
      "Classification Report:\n",
      "               precision    recall  f1-score   support\n",
      "\n",
      "           0       0.65      0.46      0.54       228\n",
      "           1       0.86      0.86      0.86      1086\n",
      "           2       0.19      0.32      0.24        66\n",
      "           3       0.26      0.47      0.33        19\n",
      "\n",
      "    accuracy                           0.77      1399\n",
      "   macro avg       0.49      0.53      0.49      1399\n",
      "weighted avg       0.79      0.77      0.77      1399\n",
      "\n"
     ]
    },
    {
     "data": {
      "text/plain": [
       "<sklearn.metrics._plot.confusion_matrix.ConfusionMatrixDisplay at 0x2068a3c3ba0>"
      ]
     },
     "execution_count": 48,
     "metadata": {},
     "output_type": "execute_result"
    },
    {
     "data": {
      "image/png": "[encoded data removed]",
      "text/plain": [
       "<Figure size 640x480 with 2 Axes>"
      ]
     },
     "metadata": {},
     "output_type": "display_data"
    }
   ],
   "source": [
    "# Features y target\n",
    "X = df.drop(\"estadoFitosanitario\", axis=1)\n",
    "y = df[\"estadoFitosanitario\"].astype(int)\n",
    "\n",
    "# Split estratificado\n",
    "X_train, X_test, y_train, y_test = train_test_split(\n",
    "    X, y, test_size=0.2, random_state=42, stratify=y\n",
    ")\n",
    "\n",
    "X_train_0 = X_train[y_train == 0]\n",
    "X_train_1 = X_train[y_train == 1]\n",
    "X_train_2 = X_train[y_train == 2]\n",
    "X_train_3 = X_train[y_train == 3]\n",
    "\n",
    "y_train_0 = y_train[y_train == 0]\n",
    "y_train_1 = y_train[y_train == 1]\n",
    "y_train_2 = y_train[y_train == 2]\n",
    "y_train_3 = y_train[y_train == 3]\n",
    "\n",
    "# Sobremuestrear clases 2 y 3 (por ejemplo, igualarlas a clase 0)\n",
    "X_train_2_up, y_train_2_up = resample(X_train_2, y_train_2,\n",
    "                                      replace=True,\n",
    "                                      n_samples=len(y_train_1),\n",
    "                                      random_state=42)\n",
    "\n",
    "X_train_3_up, y_train_3_up = resample(X_train_3, y_train_3,\n",
    "                                      replace=True,\n",
    "                                      n_samples=len(y_train_1),\n",
    "                                      random_state=42)\n",
    "\n",
    "# Combinar todo\n",
    "X_train_aug = pd.concat([X_train_0, X_train_1, X_train_2_up, X_train_3_up])\n",
    "y_train_aug = pd.concat([y_train_0, y_train_1, y_train_2_up, y_train_3_up])\n",
    "\n",
    "xgb_clf = XGBClassifier(\n",
    "    n_estimators=300,\n",
    "    learning_rate=0.1,\n",
    "    max_depth=6,\n",
    "    subsample=0.8,\n",
    "    colsample_bytree=0.8,\n",
    "    random_state=42,\n",
    "    n_jobs=-1\n",
    ")\n",
    "\n",
    "xgb_clf.fit(X_train_aug, y_train_aug)\n",
    "\n",
    "# Predecir\n",
    "y_pred = xgb_clf.predict(X_test)\n",
    "\n",
    "# Métricas de clasificación\n",
    "accuracy = accuracy_score(y_test, y_pred)\n",
    "print(\"Accuracy:\", accuracy)\n",
    "\n",
    "print(\"\\nClassification Report:\\n\", classification_report(y_test, y_pred))\n",
    "\n",
    "# Matriz de confusión\n",
    "disp_pre = ConfusionMatrixDisplay(confusion_matrix=confusion_matrix(y_test, y_pred), display_labels=[0,1,2,3])\n",
    "disp_pre.plot()"
   ]
  },
  {
   "cell_type": "markdown",
   "id": "34605165",
   "metadata": {},
   "source": [
    "### Random Forest Regressor\n",
    "---"
   ]
  },
  {
   "cell_type": "code",
   "execution_count": 25,
   "id": "979cc2c1",
   "metadata": {},
   "outputs": [
    {
     "ename": "ValueError",
     "evalue": "With n_samples=0, test_size=0.2 and train_size=None, the resulting train set will be empty. Adjust any of the aforementioned parameters.",
     "output_type": "error",
     "traceback": [
      "\u001b[31m---------------------------------------------------------------------------\u001b[39m",
      "\u001b[31mValueError\u001b[39m                                Traceback (most recent call last)",
      "\u001b[36mCell\u001b[39m\u001b[36m \u001b[39m\u001b[32mIn[25]\u001b[39m\u001b[32m, line 4\u001b[39m\n\u001b[32m      1\u001b[39m X_rf = df_cont.drop(\u001b[33m\"\u001b[39m\u001b[33mestadoFitosanitario\u001b[39m\u001b[33m\"\u001b[39m, axis=\u001b[32m1\u001b[39m)\n\u001b[32m      2\u001b[39m y_rf = df_cont[\u001b[33m\"\u001b[39m\u001b[33mestadoFitosanitario\u001b[39m\u001b[33m\"\u001b[39m].astype(\u001b[38;5;28mfloat\u001b[39m)\n\u001b[32m----> \u001b[39m\u001b[32m4\u001b[39m X_train, X_test, y_train, y_test = \u001b[43mtrain_test_split\u001b[49m\u001b[43m(\u001b[49m\n\u001b[32m      5\u001b[39m \u001b[43m    \u001b[49m\u001b[43mX_rf\u001b[49m\u001b[43m,\u001b[49m\u001b[43m \u001b[49m\u001b[43my_rf\u001b[49m\u001b[43m,\u001b[49m\u001b[43m \u001b[49m\u001b[43mtest_size\u001b[49m\u001b[43m=\u001b[49m\u001b[32;43m0.2\u001b[39;49m\u001b[43m,\u001b[49m\u001b[43m \u001b[49m\u001b[43mrandom_state\u001b[49m\u001b[43m=\u001b[49m\u001b[32;43m42\u001b[39;49m\n\u001b[32m      6\u001b[39m \u001b[43m)\u001b[49m\n\u001b[32m      8\u001b[39m rf_reg = RandomForestRegressor(\n\u001b[32m      9\u001b[39m     n_estimators=\u001b[32m300\u001b[39m,   \u001b[38;5;66;03m# número de árboles\u001b[39;00m\n\u001b[32m     10\u001b[39m     max_depth=\u001b[38;5;28;01mNone\u001b[39;00m,     \u001b[38;5;66;03m# profundidad máxima de los árboles\u001b[39;00m\n\u001b[32m     11\u001b[39m     random_state=\u001b[32m42\u001b[39m,\n\u001b[32m     12\u001b[39m     n_jobs=-\u001b[32m1\u001b[39m\n\u001b[32m     13\u001b[39m )\n\u001b[32m     15\u001b[39m rf_reg.fit(X_train, y_train)\n",
      "\u001b[36mFile \u001b[39m\u001b[32mc:\\Users\\diego\\AppData\\Local\\Programs\\Python\\Python313\\Lib\\site-packages\\sklearn\\utils\\_param_validation.py:216\u001b[39m, in \u001b[36mvalidate_params.<locals>.decorator.<locals>.wrapper\u001b[39m\u001b[34m(*args, **kwargs)\u001b[39m\n\u001b[32m    210\u001b[39m \u001b[38;5;28;01mtry\u001b[39;00m:\n\u001b[32m    211\u001b[39m     \u001b[38;5;28;01mwith\u001b[39;00m config_context(\n\u001b[32m    212\u001b[39m         skip_parameter_validation=(\n\u001b[32m    213\u001b[39m             prefer_skip_nested_validation \u001b[38;5;129;01mor\u001b[39;00m global_skip_validation\n\u001b[32m    214\u001b[39m         )\n\u001b[32m    215\u001b[39m     ):\n\u001b[32m--> \u001b[39m\u001b[32m216\u001b[39m         \u001b[38;5;28;01mreturn\u001b[39;00m \u001b[43mfunc\u001b[49m\u001b[43m(\u001b[49m\u001b[43m*\u001b[49m\u001b[43margs\u001b[49m\u001b[43m,\u001b[49m\u001b[43m \u001b[49m\u001b[43m*\u001b[49m\u001b[43m*\u001b[49m\u001b[43mkwargs\u001b[49m\u001b[43m)\u001b[49m\n\u001b[32m    217\u001b[39m \u001b[38;5;28;01mexcept\u001b[39;00m InvalidParameterError \u001b[38;5;28;01mas\u001b[39;00m e:\n\u001b[32m    218\u001b[39m     \u001b[38;5;66;03m# When the function is just a wrapper around an estimator, we allow\u001b[39;00m\n\u001b[32m    219\u001b[39m     \u001b[38;5;66;03m# the function to delegate validation to the estimator, but we replace\u001b[39;00m\n\u001b[32m    220\u001b[39m     \u001b[38;5;66;03m# the name of the estimator by the name of the function in the error\u001b[39;00m\n\u001b[32m    221\u001b[39m     \u001b[38;5;66;03m# message to avoid confusion.\u001b[39;00m\n\u001b[32m    222\u001b[39m     msg = re.sub(\n\u001b[32m    223\u001b[39m         \u001b[33mr\u001b[39m\u001b[33m\"\u001b[39m\u001b[33mparameter of \u001b[39m\u001b[33m\\\u001b[39m\u001b[33mw+ must be\u001b[39m\u001b[33m\"\u001b[39m,\n\u001b[32m    224\u001b[39m         \u001b[33mf\u001b[39m\u001b[33m\"\u001b[39m\u001b[33mparameter of \u001b[39m\u001b[38;5;132;01m{\u001b[39;00mfunc.\u001b[34m__qualname__\u001b[39m\u001b[38;5;132;01m}\u001b[39;00m\u001b[33m must be\u001b[39m\u001b[33m\"\u001b[39m,\n\u001b[32m    225\u001b[39m         \u001b[38;5;28mstr\u001b[39m(e),\n\u001b[32m    226\u001b[39m     )\n",
      "\u001b[36mFile \u001b[39m\u001b[32mc:\\Users\\diego\\AppData\\Local\\Programs\\Python\\Python313\\Lib\\site-packages\\sklearn\\model_selection\\_split.py:2851\u001b[39m, in \u001b[36mtrain_test_split\u001b[39m\u001b[34m(test_size, train_size, random_state, shuffle, stratify, *arrays)\u001b[39m\n\u001b[32m   2848\u001b[39m arrays = indexable(*arrays)\n\u001b[32m   2850\u001b[39m n_samples = _num_samples(arrays[\u001b[32m0\u001b[39m])\n\u001b[32m-> \u001b[39m\u001b[32m2851\u001b[39m n_train, n_test = \u001b[43m_validate_shuffle_split\u001b[49m\u001b[43m(\u001b[49m\n\u001b[32m   2852\u001b[39m \u001b[43m    \u001b[49m\u001b[43mn_samples\u001b[49m\u001b[43m,\u001b[49m\u001b[43m \u001b[49m\u001b[43mtest_size\u001b[49m\u001b[43m,\u001b[49m\u001b[43m \u001b[49m\u001b[43mtrain_size\u001b[49m\u001b[43m,\u001b[49m\u001b[43m \u001b[49m\u001b[43mdefault_test_size\u001b[49m\u001b[43m=\u001b[49m\u001b[32;43m0.25\u001b[39;49m\n\u001b[32m   2853\u001b[39m \u001b[43m\u001b[49m\u001b[43m)\u001b[49m\n\u001b[32m   2855\u001b[39m \u001b[38;5;28;01mif\u001b[39;00m shuffle \u001b[38;5;129;01mis\u001b[39;00m \u001b[38;5;28;01mFalse\u001b[39;00m:\n\u001b[32m   2856\u001b[39m     \u001b[38;5;28;01mif\u001b[39;00m stratify \u001b[38;5;129;01mis\u001b[39;00m \u001b[38;5;129;01mnot\u001b[39;00m \u001b[38;5;28;01mNone\u001b[39;00m:\n",
      "\u001b[36mFile \u001b[39m\u001b[32mc:\\Users\\diego\\AppData\\Local\\Programs\\Python\\Python313\\Lib\\site-packages\\sklearn\\model_selection\\_split.py:2481\u001b[39m, in \u001b[36m_validate_shuffle_split\u001b[39m\u001b[34m(n_samples, test_size, train_size, default_test_size)\u001b[39m\n\u001b[32m   2478\u001b[39m n_train, n_test = \u001b[38;5;28mint\u001b[39m(n_train), \u001b[38;5;28mint\u001b[39m(n_test)\n\u001b[32m   2480\u001b[39m \u001b[38;5;28;01mif\u001b[39;00m n_train == \u001b[32m0\u001b[39m:\n\u001b[32m-> \u001b[39m\u001b[32m2481\u001b[39m     \u001b[38;5;28;01mraise\u001b[39;00m \u001b[38;5;167;01mValueError\u001b[39;00m(\n\u001b[32m   2482\u001b[39m         \u001b[33m\"\u001b[39m\u001b[33mWith n_samples=\u001b[39m\u001b[38;5;132;01m{}\u001b[39;00m\u001b[33m, test_size=\u001b[39m\u001b[38;5;132;01m{}\u001b[39;00m\u001b[33m and train_size=\u001b[39m\u001b[38;5;132;01m{}\u001b[39;00m\u001b[33m, the \u001b[39m\u001b[33m\"\u001b[39m\n\u001b[32m   2483\u001b[39m         \u001b[33m\"\u001b[39m\u001b[33mresulting train set will be empty. Adjust any of the \u001b[39m\u001b[33m\"\u001b[39m\n\u001b[32m   2484\u001b[39m         \u001b[33m\"\u001b[39m\u001b[33maforementioned parameters.\u001b[39m\u001b[33m\"\u001b[39m.format(n_samples, test_size, train_size)\n\u001b[32m   2485\u001b[39m     )\n\u001b[32m   2487\u001b[39m \u001b[38;5;28;01mreturn\u001b[39;00m n_train, n_test\n",
      "\u001b[31mValueError\u001b[39m: With n_samples=0, test_size=0.2 and train_size=None, the resulting train set will be empty. Adjust any of the aforementioned parameters."
     ]
    }
   ],
   "source": [
    "X_rf = df_cont.drop(\"estadoFitosanitario\", axis=1)\n",
    "y_rf = df_cont[\"estadoFitosanitario\"].astype(float)\n",
    "\n",
    "X_train, X_test, y_train, y_test = train_test_split(\n",
    "    X_rf, y_rf, test_size=0.2, random_state=42\n",
    ")\n",
    "\n",
    "rf_reg = RandomForestRegressor(\n",
    "    n_estimators=300,   # número de árboles\n",
    "    max_depth=None,     # profundidad máxima de los árboles\n",
    "    random_state=42,\n",
    "    n_jobs=-1\n",
    ")\n",
    "\n",
    "rf_reg.fit(X_train, y_train)\n",
    "\n",
    "y_pred = rf_reg.predict(X_test)\n",
    "\n",
    "rmse = np.sqrt(mean_squared_error(y_test, y_pred))\n",
    "r2 = r2_score(y_test, y_pred)\n",
    "\n",
    "print(\"Random Forest Regressor\")\n",
    "print(\"RMSE:\", rmse)\n",
    "print(\"R²:\", r2)"
   ]
  },
  {
   "cell_type": "markdown",
   "id": "e176623c",
   "metadata": {},
   "source": [
    "### Random Foresft - Classifier\n",
    "---"
   ]
  },
  {
   "cell_type": "code",
   "execution_count": 26,
   "id": "5fedf25d",
   "metadata": {},
   "outputs": [
    {
     "ename": "ValueError",
     "evalue": "With n_samples=0, test_size=0.2 and train_size=None, the resulting train set will be empty. Adjust any of the aforementioned parameters.",
     "output_type": "error",
     "traceback": [
      "\u001b[31m---------------------------------------------------------------------------\u001b[39m",
      "\u001b[31mValueError\u001b[39m                                Traceback (most recent call last)",
      "\u001b[36mCell\u001b[39m\u001b[36m \u001b[39m\u001b[32mIn[26]\u001b[39m\u001b[32m, line 2\u001b[39m\n\u001b[32m      1\u001b[39m \u001b[38;5;66;03m# Train/Test split\u001b[39;00m\n\u001b[32m----> \u001b[39m\u001b[32m2\u001b[39m X_train, X_test, y_train, y_test = \u001b[43mtrain_test_split\u001b[49m\u001b[43m(\u001b[49m\n\u001b[32m      3\u001b[39m \u001b[43m    \u001b[49m\u001b[43mX\u001b[49m\u001b[43m,\u001b[49m\u001b[43m \u001b[49m\u001b[43my\u001b[49m\u001b[43m,\u001b[49m\u001b[43m \u001b[49m\u001b[43mtest_size\u001b[49m\u001b[43m=\u001b[49m\u001b[32;43m0.2\u001b[39;49m\u001b[43m,\u001b[49m\u001b[43m \u001b[49m\u001b[43mrandom_state\u001b[49m\u001b[43m=\u001b[49m\u001b[32;43m42\u001b[39;49m\u001b[43m,\u001b[49m\u001b[43m \u001b[49m\u001b[43mstratify\u001b[49m\u001b[43m=\u001b[49m\u001b[43my\u001b[49m\n\u001b[32m      4\u001b[39m \u001b[43m)\u001b[49m\n\u001b[32m      6\u001b[39m \u001b[38;5;66;03m# Definir RandomForestClassifier\u001b[39;00m\n\u001b[32m      7\u001b[39m rf_clf = RandomForestClassifier(\n\u001b[32m      8\u001b[39m     n_estimators=\u001b[32m300\u001b[39m,\n\u001b[32m      9\u001b[39m     max_depth=\u001b[38;5;28;01mNone\u001b[39;00m,\n\u001b[32m   (...)\u001b[39m\u001b[32m     12\u001b[39m     class_weight=\u001b[33m'\u001b[39m\u001b[33mbalanced\u001b[39m\u001b[33m'\u001b[39m  \u001b[38;5;66;03m# esto equilibra automáticamente las clases\u001b[39;00m\n\u001b[32m     13\u001b[39m )\n",
      "\u001b[36mFile \u001b[39m\u001b[32mc:\\Users\\diego\\AppData\\Local\\Programs\\Python\\Python313\\Lib\\site-packages\\sklearn\\utils\\_param_validation.py:216\u001b[39m, in \u001b[36mvalidate_params.<locals>.decorator.<locals>.wrapper\u001b[39m\u001b[34m(*args, **kwargs)\u001b[39m\n\u001b[32m    210\u001b[39m \u001b[38;5;28;01mtry\u001b[39;00m:\n\u001b[32m    211\u001b[39m     \u001b[38;5;28;01mwith\u001b[39;00m config_context(\n\u001b[32m    212\u001b[39m         skip_parameter_validation=(\n\u001b[32m    213\u001b[39m             prefer_skip_nested_validation \u001b[38;5;129;01mor\u001b[39;00m global_skip_validation\n\u001b[32m    214\u001b[39m         )\n\u001b[32m    215\u001b[39m     ):\n\u001b[32m--> \u001b[39m\u001b[32m216\u001b[39m         \u001b[38;5;28;01mreturn\u001b[39;00m \u001b[43mfunc\u001b[49m\u001b[43m(\u001b[49m\u001b[43m*\u001b[49m\u001b[43margs\u001b[49m\u001b[43m,\u001b[49m\u001b[43m \u001b[49m\u001b[43m*\u001b[49m\u001b[43m*\u001b[49m\u001b[43mkwargs\u001b[49m\u001b[43m)\u001b[49m\n\u001b[32m    217\u001b[39m \u001b[38;5;28;01mexcept\u001b[39;00m InvalidParameterError \u001b[38;5;28;01mas\u001b[39;00m e:\n\u001b[32m    218\u001b[39m     \u001b[38;5;66;03m# When the function is just a wrapper around an estimator, we allow\u001b[39;00m\n\u001b[32m    219\u001b[39m     \u001b[38;5;66;03m# the function to delegate validation to the estimator, but we replace\u001b[39;00m\n\u001b[32m    220\u001b[39m     \u001b[38;5;66;03m# the name of the estimator by the name of the function in the error\u001b[39;00m\n\u001b[32m    221\u001b[39m     \u001b[38;5;66;03m# message to avoid confusion.\u001b[39;00m\n\u001b[32m    222\u001b[39m     msg = re.sub(\n\u001b[32m    223\u001b[39m         \u001b[33mr\u001b[39m\u001b[33m\"\u001b[39m\u001b[33mparameter of \u001b[39m\u001b[33m\\\u001b[39m\u001b[33mw+ must be\u001b[39m\u001b[33m\"\u001b[39m,\n\u001b[32m    224\u001b[39m         \u001b[33mf\u001b[39m\u001b[33m\"\u001b[39m\u001b[33mparameter of \u001b[39m\u001b[38;5;132;01m{\u001b[39;00mfunc.\u001b[34m__qualname__\u001b[39m\u001b[38;5;132;01m}\u001b[39;00m\u001b[33m must be\u001b[39m\u001b[33m\"\u001b[39m,\n\u001b[32m    225\u001b[39m         \u001b[38;5;28mstr\u001b[39m(e),\n\u001b[32m    226\u001b[39m     )\n",
      "\u001b[36mFile \u001b[39m\u001b[32mc:\\Users\\diego\\AppData\\Local\\Programs\\Python\\Python313\\Lib\\site-packages\\sklearn\\model_selection\\_split.py:2851\u001b[39m, in \u001b[36mtrain_test_split\u001b[39m\u001b[34m(test_size, train_size, random_state, shuffle, stratify, *arrays)\u001b[39m\n\u001b[32m   2848\u001b[39m arrays = indexable(*arrays)\n\u001b[32m   2850\u001b[39m n_samples = _num_samples(arrays[\u001b[32m0\u001b[39m])\n\u001b[32m-> \u001b[39m\u001b[32m2851\u001b[39m n_train, n_test = \u001b[43m_validate_shuffle_split\u001b[49m\u001b[43m(\u001b[49m\n\u001b[32m   2852\u001b[39m \u001b[43m    \u001b[49m\u001b[43mn_samples\u001b[49m\u001b[43m,\u001b[49m\u001b[43m \u001b[49m\u001b[43mtest_size\u001b[49m\u001b[43m,\u001b[49m\u001b[43m \u001b[49m\u001b[43mtrain_size\u001b[49m\u001b[43m,\u001b[49m\u001b[43m \u001b[49m\u001b[43mdefault_test_size\u001b[49m\u001b[43m=\u001b[49m\u001b[32;43m0.25\u001b[39;49m\n\u001b[32m   2853\u001b[39m \u001b[43m\u001b[49m\u001b[43m)\u001b[49m\n\u001b[32m   2855\u001b[39m \u001b[38;5;28;01mif\u001b[39;00m shuffle \u001b[38;5;129;01mis\u001b[39;00m \u001b[38;5;28;01mFalse\u001b[39;00m:\n\u001b[32m   2856\u001b[39m     \u001b[38;5;28;01mif\u001b[39;00m stratify \u001b[38;5;129;01mis\u001b[39;00m \u001b[38;5;129;01mnot\u001b[39;00m \u001b[38;5;28;01mNone\u001b[39;00m:\n",
      "\u001b[36mFile \u001b[39m\u001b[32mc:\\Users\\diego\\AppData\\Local\\Programs\\Python\\Python313\\Lib\\site-packages\\sklearn\\model_selection\\_split.py:2481\u001b[39m, in \u001b[36m_validate_shuffle_split\u001b[39m\u001b[34m(n_samples, test_size, train_size, default_test_size)\u001b[39m\n\u001b[32m   2478\u001b[39m n_train, n_test = \u001b[38;5;28mint\u001b[39m(n_train), \u001b[38;5;28mint\u001b[39m(n_test)\n\u001b[32m   2480\u001b[39m \u001b[38;5;28;01mif\u001b[39;00m n_train == \u001b[32m0\u001b[39m:\n\u001b[32m-> \u001b[39m\u001b[32m2481\u001b[39m     \u001b[38;5;28;01mraise\u001b[39;00m \u001b[38;5;167;01mValueError\u001b[39;00m(\n\u001b[32m   2482\u001b[39m         \u001b[33m\"\u001b[39m\u001b[33mWith n_samples=\u001b[39m\u001b[38;5;132;01m{}\u001b[39;00m\u001b[33m, test_size=\u001b[39m\u001b[38;5;132;01m{}\u001b[39;00m\u001b[33m and train_size=\u001b[39m\u001b[38;5;132;01m{}\u001b[39;00m\u001b[33m, the \u001b[39m\u001b[33m\"\u001b[39m\n\u001b[32m   2483\u001b[39m         \u001b[33m\"\u001b[39m\u001b[33mresulting train set will be empty. Adjust any of the \u001b[39m\u001b[33m\"\u001b[39m\n\u001b[32m   2484\u001b[39m         \u001b[33m\"\u001b[39m\u001b[33maforementioned parameters.\u001b[39m\u001b[33m\"\u001b[39m.format(n_samples, test_size, train_size)\n\u001b[32m   2485\u001b[39m     )\n\u001b[32m   2487\u001b[39m \u001b[38;5;28;01mreturn\u001b[39;00m n_train, n_test\n",
      "\u001b[31mValueError\u001b[39m: With n_samples=0, test_size=0.2 and train_size=None, the resulting train set will be empty. Adjust any of the aforementioned parameters."
     ]
    }
   ],
   "source": [
    "# Train/Test split\n",
    "X_train, X_test, y_train, y_test = train_test_split(\n",
    "    X, y, test_size=0.2, random_state=42, stratify=y\n",
    ")\n",
    "\n",
    "# Definir RandomForestClassifier\n",
    "rf_clf = RandomForestClassifier(\n",
    "    n_estimators=300,\n",
    "    max_depth=None,\n",
    "    random_state=42,\n",
    "    n_jobs=-1,\n",
    "    class_weight='balanced'  # esto equilibra automáticamente las clases\n",
    ")\n",
    "\n",
    "# 3Entrenar\n",
    "rf_clf.fit(X_train, y_train)\n",
    "\n",
    "# 4Predecir\n",
    "y_pred = rf_clf.predict(X_test)\n",
    "\n",
    "# Métricas\n",
    "accuracy = accuracy_score(y_test, y_pred)\n",
    "print(\"Accuracy:\", accuracy)\n",
    "print(\"\\nClassification Report:\\n\", classification_report(y_test, y_pred))\n",
    "\n",
    "# Matriz de confusión\n",
    "cm = confusion_matrix(y_test, y_pred)\n",
    "disp_pre = ConfusionMatrixDisplay(cm, display_labels=[0,1,2,3])\n",
    "disp_pre.plot()"
   ]
  },
  {
   "cell_type": "markdown",
   "id": "82e4c968",
   "metadata": {},
   "source": [
    "### Decision Tree Classifier\n",
    "---"
   ]
  },
  {
   "cell_type": "code",
   "execution_count": 27,
   "id": "79cd0f83",
   "metadata": {},
   "outputs": [
    {
     "ename": "ValueError",
     "evalue": "With n_samples=0, test_size=0.2 and train_size=None, the resulting train set will be empty. Adjust any of the aforementioned parameters.",
     "output_type": "error",
     "traceback": [
      "\u001b[31m---------------------------------------------------------------------------\u001b[39m",
      "\u001b[31mValueError\u001b[39m                                Traceback (most recent call last)",
      "\u001b[36mCell\u001b[39m\u001b[36m \u001b[39m\u001b[32mIn[27]\u001b[39m\u001b[32m, line 2\u001b[39m\n\u001b[32m      1\u001b[39m \u001b[38;5;66;03m# Train/Test split\u001b[39;00m\n\u001b[32m----> \u001b[39m\u001b[32m2\u001b[39m X_train, X_test, y_train, y_test = \u001b[43mtrain_test_split\u001b[49m\u001b[43m(\u001b[49m\n\u001b[32m      3\u001b[39m \u001b[43m    \u001b[49m\u001b[43mX\u001b[49m\u001b[43m,\u001b[49m\u001b[43m \u001b[49m\u001b[43my\u001b[49m\u001b[43m,\u001b[49m\u001b[43m \u001b[49m\u001b[43mtest_size\u001b[49m\u001b[43m=\u001b[49m\u001b[32;43m0.2\u001b[39;49m\u001b[43m,\u001b[49m\u001b[43m \u001b[49m\u001b[43mrandom_state\u001b[49m\u001b[43m=\u001b[49m\u001b[32;43m42\u001b[39;49m\u001b[43m,\u001b[49m\u001b[43m \u001b[49m\u001b[43mstratify\u001b[49m\u001b[43m=\u001b[49m\u001b[43my\u001b[49m\n\u001b[32m      4\u001b[39m \u001b[43m)\u001b[49m\n\u001b[32m      6\u001b[39m \u001b[38;5;66;03m# Definir árbol de decisión\u001b[39;00m\n\u001b[32m      7\u001b[39m dt_clf = DecisionTreeClassifier(\n\u001b[32m      8\u001b[39m     random_state=\u001b[32m42\u001b[39m,\n\u001b[32m      9\u001b[39m     class_weight=\u001b[33m'\u001b[39m\u001b[33mbalanced\u001b[39m\u001b[33m'\u001b[39m,  \u001b[38;5;66;03m# rebalancea automáticamente las clases\u001b[39;00m\n\u001b[32m     10\u001b[39m     max_depth=\u001b[38;5;28;01mNone\u001b[39;00m  \u001b[38;5;66;03m# puedes ajustar para evitar overfitting\u001b[39;00m\n\u001b[32m     11\u001b[39m )\n",
      "\u001b[36mFile \u001b[39m\u001b[32mc:\\Users\\diego\\AppData\\Local\\Programs\\Python\\Python313\\Lib\\site-packages\\sklearn\\utils\\_param_validation.py:216\u001b[39m, in \u001b[36mvalidate_params.<locals>.decorator.<locals>.wrapper\u001b[39m\u001b[34m(*args, **kwargs)\u001b[39m\n\u001b[32m    210\u001b[39m \u001b[38;5;28;01mtry\u001b[39;00m:\n\u001b[32m    211\u001b[39m     \u001b[38;5;28;01mwith\u001b[39;00m config_context(\n\u001b[32m    212\u001b[39m         skip_parameter_validation=(\n\u001b[32m    213\u001b[39m             prefer_skip_nested_validation \u001b[38;5;129;01mor\u001b[39;00m global_skip_validation\n\u001b[32m    214\u001b[39m         )\n\u001b[32m    215\u001b[39m     ):\n\u001b[32m--> \u001b[39m\u001b[32m216\u001b[39m         \u001b[38;5;28;01mreturn\u001b[39;00m \u001b[43mfunc\u001b[49m\u001b[43m(\u001b[49m\u001b[43m*\u001b[49m\u001b[43margs\u001b[49m\u001b[43m,\u001b[49m\u001b[43m \u001b[49m\u001b[43m*\u001b[49m\u001b[43m*\u001b[49m\u001b[43mkwargs\u001b[49m\u001b[43m)\u001b[49m\n\u001b[32m    217\u001b[39m \u001b[38;5;28;01mexcept\u001b[39;00m InvalidParameterError \u001b[38;5;28;01mas\u001b[39;00m e:\n\u001b[32m    218\u001b[39m     \u001b[38;5;66;03m# When the function is just a wrapper around an estimator, we allow\u001b[39;00m\n\u001b[32m    219\u001b[39m     \u001b[38;5;66;03m# the function to delegate validation to the estimator, but we replace\u001b[39;00m\n\u001b[32m    220\u001b[39m     \u001b[38;5;66;03m# the name of the estimator by the name of the function in the error\u001b[39;00m\n\u001b[32m    221\u001b[39m     \u001b[38;5;66;03m# message to avoid confusion.\u001b[39;00m\n\u001b[32m    222\u001b[39m     msg = re.sub(\n\u001b[32m    223\u001b[39m         \u001b[33mr\u001b[39m\u001b[33m\"\u001b[39m\u001b[33mparameter of \u001b[39m\u001b[33m\\\u001b[39m\u001b[33mw+ must be\u001b[39m\u001b[33m\"\u001b[39m,\n\u001b[32m    224\u001b[39m         \u001b[33mf\u001b[39m\u001b[33m\"\u001b[39m\u001b[33mparameter of \u001b[39m\u001b[38;5;132;01m{\u001b[39;00mfunc.\u001b[34m__qualname__\u001b[39m\u001b[38;5;132;01m}\u001b[39;00m\u001b[33m must be\u001b[39m\u001b[33m\"\u001b[39m,\n\u001b[32m    225\u001b[39m         \u001b[38;5;28mstr\u001b[39m(e),\n\u001b[32m    226\u001b[39m     )\n",
      "\u001b[36mFile \u001b[39m\u001b[32mc:\\Users\\diego\\AppData\\Local\\Programs\\Python\\Python313\\Lib\\site-packages\\sklearn\\model_selection\\_split.py:2851\u001b[39m, in \u001b[36mtrain_test_split\u001b[39m\u001b[34m(test_size, train_size, random_state, shuffle, stratify, *arrays)\u001b[39m\n\u001b[32m   2848\u001b[39m arrays = indexable(*arrays)\n\u001b[32m   2850\u001b[39m n_samples = _num_samples(arrays[\u001b[32m0\u001b[39m])\n\u001b[32m-> \u001b[39m\u001b[32m2851\u001b[39m n_train, n_test = \u001b[43m_validate_shuffle_split\u001b[49m\u001b[43m(\u001b[49m\n\u001b[32m   2852\u001b[39m \u001b[43m    \u001b[49m\u001b[43mn_samples\u001b[49m\u001b[43m,\u001b[49m\u001b[43m \u001b[49m\u001b[43mtest_size\u001b[49m\u001b[43m,\u001b[49m\u001b[43m \u001b[49m\u001b[43mtrain_size\u001b[49m\u001b[43m,\u001b[49m\u001b[43m \u001b[49m\u001b[43mdefault_test_size\u001b[49m\u001b[43m=\u001b[49m\u001b[32;43m0.25\u001b[39;49m\n\u001b[32m   2853\u001b[39m \u001b[43m\u001b[49m\u001b[43m)\u001b[49m\n\u001b[32m   2855\u001b[39m \u001b[38;5;28;01mif\u001b[39;00m shuffle \u001b[38;5;129;01mis\u001b[39;00m \u001b[38;5;28;01mFalse\u001b[39;00m:\n\u001b[32m   2856\u001b[39m     \u001b[38;5;28;01mif\u001b[39;00m stratify \u001b[38;5;129;01mis\u001b[39;00m \u001b[38;5;129;01mnot\u001b[39;00m \u001b[38;5;28;01mNone\u001b[39;00m:\n",
      "\u001b[36mFile \u001b[39m\u001b[32mc:\\Users\\diego\\AppData\\Local\\Programs\\Python\\Python313\\Lib\\site-packages\\sklearn\\model_selection\\_split.py:2481\u001b[39m, in \u001b[36m_validate_shuffle_split\u001b[39m\u001b[34m(n_samples, test_size, train_size, default_test_size)\u001b[39m\n\u001b[32m   2478\u001b[39m n_train, n_test = \u001b[38;5;28mint\u001b[39m(n_train), \u001b[38;5;28mint\u001b[39m(n_test)\n\u001b[32m   2480\u001b[39m \u001b[38;5;28;01mif\u001b[39;00m n_train == \u001b[32m0\u001b[39m:\n\u001b[32m-> \u001b[39m\u001b[32m2481\u001b[39m     \u001b[38;5;28;01mraise\u001b[39;00m \u001b[38;5;167;01mValueError\u001b[39;00m(\n\u001b[32m   2482\u001b[39m         \u001b[33m\"\u001b[39m\u001b[33mWith n_samples=\u001b[39m\u001b[38;5;132;01m{}\u001b[39;00m\u001b[33m, test_size=\u001b[39m\u001b[38;5;132;01m{}\u001b[39;00m\u001b[33m and train_size=\u001b[39m\u001b[38;5;132;01m{}\u001b[39;00m\u001b[33m, the \u001b[39m\u001b[33m\"\u001b[39m\n\u001b[32m   2483\u001b[39m         \u001b[33m\"\u001b[39m\u001b[33mresulting train set will be empty. Adjust any of the \u001b[39m\u001b[33m\"\u001b[39m\n\u001b[32m   2484\u001b[39m         \u001b[33m\"\u001b[39m\u001b[33maforementioned parameters.\u001b[39m\u001b[33m\"\u001b[39m.format(n_samples, test_size, train_size)\n\u001b[32m   2485\u001b[39m     )\n\u001b[32m   2487\u001b[39m \u001b[38;5;28;01mreturn\u001b[39;00m n_train, n_test\n",
      "\u001b[31mValueError\u001b[39m: With n_samples=0, test_size=0.2 and train_size=None, the resulting train set will be empty. Adjust any of the aforementioned parameters."
     ]
    }
   ],
   "source": [
    "# Train/Test split\n",
    "X_train, X_test, y_train, y_test = train_test_split(\n",
    "    X, y, test_size=0.2, random_state=42, stratify=y\n",
    ")\n",
    "\n",
    "# Definir árbol de decisión\n",
    "dt_clf = DecisionTreeClassifier(\n",
    "    random_state=42,\n",
    "    class_weight='balanced',  # rebalancea automáticamente las clases\n",
    "    max_depth=None  # puedes ajustar para evitar overfitting\n",
    ")\n",
    "\n",
    "# Entrenar\n",
    "dt_clf.fit(X_train, y_train)\n",
    "\n",
    "# Predecir\n",
    "y_pred = dt_clf.predict(X_test)\n",
    "\n",
    "# Métricas\n",
    "accuracy = accuracy_score(y_test, y_pred)\n",
    "print(\"Accuracy:\", accuracy)\n",
    "print(\"\\nClassification Report:\\n\", classification_report(y_test, y_pred))\n",
    "\n",
    "# Matriz de confusión\n",
    "cm = confusion_matrix(y_test, y_pred)\n",
    "disp_pre = ConfusionMatrixDisplay(cm, display_labels=[0,1,2,3])\n",
    "disp_pre.plot()"
   ]
  },
  {
   "cell_type": "markdown",
   "id": "c110517f",
   "metadata": {},
   "source": [
    "## Prueba del modelo - Datos Artificiales\n",
    "-----"
   ]
  },
  {
   "cell_type": "code",
   "execution_count": 27,
   "id": "286a303b",
   "metadata": {},
   "outputs": [
    {
     "ename": "NameError",
     "evalue": "name 'df1' is not defined",
     "output_type": "error",
     "traceback": [
      "\u001b[31m---------------------------------------------------------------------------\u001b[39m",
      "\u001b[31mNameError\u001b[39m                                 Traceback (most recent call last)",
      "\u001b[36mCell\u001b[39m\u001b[36m \u001b[39m\u001b[32mIn[27]\u001b[39m\u001b[32m, line 2\u001b[39m\n\u001b[32m      1\u001b[39m \u001b[38;5;66;03m# Features (todas menos la columna objetivo)\u001b[39;00m\n\u001b[32m----> \u001b[39m\u001b[32m2\u001b[39m X = \u001b[43mdf1\u001b[49m.drop(\u001b[33m\"\u001b[39m\u001b[33mfaseVital\u001b[39m\u001b[33m\"\u001b[39m, axis=\u001b[32m1\u001b[39m)\n\u001b[32m      4\u001b[39m \u001b[38;5;66;03m# Target (asegurarse de que sea numérico)\u001b[39;00m\n\u001b[32m      5\u001b[39m y = df1[\u001b[33m\"\u001b[39m\u001b[33mfaseVital\u001b[39m\u001b[33m\"\u001b[39m].astype(\u001b[38;5;28mfloat\u001b[39m)\n",
      "\u001b[31mNameError\u001b[39m: name 'df1' is not defined"
     ]
    }
   ],
   "source": [
    "# Features (todas menos la columna objetivo)\n",
    "X = df1.drop(\"faseVital\", axis=1)\n",
    "\n",
    "# Target (asegurarse de que sea numérico)\n",
    "y = df1[\"faseVital\"].astype(float)"
   ]
  },
  {
   "cell_type": "code",
   "execution_count": null,
   "id": "7b55e75f",
   "metadata": {},
   "outputs": [],
   "source": [
    "# Número de datos sintéticos que querés generar\n",
    "n_samples = 100\n",
    "\n",
    "synthetic_data = pd.DataFrame()\n",
    "\n",
    "for col in X.columns:  # X = df1.drop(\"faseVital\", axis=1)\n",
    "    if X[col].dtype == float or X[col].dtype == int:\n",
    "        # Generamos valores aleatorios normales con la misma media y desviación\n",
    "        mu = X[col].mean()\n",
    "        sigma = X[col].std()\n",
    "        synthetic_data[col] = np.random.normal(mu, sigma, n_samples).round()\n",
    "    else:\n",
    "        # Para columnas categóricas, muestreamos los valores existentes\n",
    "        synthetic_data[col] = np.random.choice(X[col], size=n_samples, replace=True)\n"
   ]
  },
  {
   "cell_type": "markdown",
   "id": "e52a960e",
   "metadata": {},
   "source": [
    "### XGBoost\n",
    "---"
   ]
  },
  {
   "cell_type": "code",
   "execution_count": null,
   "id": "f8cff6d8",
   "metadata": {},
   "outputs": [
    {
     "name": "stdout",
     "output_type": "stream",
     "text": [
      "[2 2 2 1 2 2 3 2 2 2 2 2 1 3 2 1 2 2 2 2 3 2 2 2 2 2 2 2 2 3 2 1 2 3 2 3 3\n",
      " 2 2 2 2 2 2 2 2 3 2 3 2 2 2 2 2 1 1 3 2 2 2 2 2 4 2 2 2 3 2 2 2 2 2 2 2 2\n",
      " 3 2 3 2 2 2 2 3 2 2 2 2 2 2 2 2 2 2 2 2 2 2 2 2 2 2]\n"
     ]
    }
   ],
   "source": [
    "# Predecir usando el modelo XGBoost ya entrenado\n",
    "y_pred_synthetic = xgb_reg.predict(synthetic_data)\n",
    "\n",
    "# Si querés mapear a los valores discretos de faseVital (0–4):\n",
    "y_pred_synthetic_rounded = np.clip(np.round(y_pred_synthetic), 0, 4).astype(int)\n",
    "\n",
    "print(y_pred_synthetic_rounded)"
   ]
  },
  {
   "cell_type": "code",
   "execution_count": null,
   "id": "0dee5e80",
   "metadata": {},
   "outputs": [
    {
     "name": "stdout",
     "output_type": "stream",
     "text": [
      "La muestra 1 está en fase Maduro\n",
      "La muestra 2 está en fase Maduro\n",
      "La muestra 3 está en fase Maduro\n",
      "La muestra 4 está en fase Joven\n",
      "La muestra 5 está en fase Maduro\n",
      "La muestra 6 está en fase Maduro\n",
      "La muestra 7 está en fase Añoso\n",
      "La muestra 8 está en fase Maduro\n",
      "La muestra 9 está en fase Maduro\n",
      "La muestra 10 está en fase Maduro\n",
      "La muestra 11 está en fase Maduro\n",
      "La muestra 12 está en fase Maduro\n",
      "La muestra 13 está en fase Joven\n",
      "La muestra 14 está en fase Añoso\n",
      "La muestra 15 está en fase Maduro\n",
      "La muestra 16 está en fase Joven\n",
      "La muestra 17 está en fase Maduro\n",
      "La muestra 18 está en fase Maduro\n",
      "La muestra 19 está en fase Maduro\n",
      "La muestra 20 está en fase Maduro\n",
      "La muestra 21 está en fase Añoso\n",
      "La muestra 22 está en fase Maduro\n",
      "La muestra 23 está en fase Maduro\n",
      "La muestra 24 está en fase Maduro\n",
      "La muestra 25 está en fase Maduro\n",
      "La muestra 26 está en fase Maduro\n",
      "La muestra 27 está en fase Maduro\n",
      "La muestra 28 está en fase Maduro\n",
      "La muestra 29 está en fase Maduro\n",
      "La muestra 30 está en fase Añoso\n",
      "La muestra 31 está en fase Maduro\n",
      "La muestra 32 está en fase Joven\n",
      "La muestra 33 está en fase Maduro\n",
      "La muestra 34 está en fase Añoso\n",
      "La muestra 35 está en fase Maduro\n",
      "La muestra 36 está en fase Añoso\n",
      "La muestra 37 está en fase Añoso\n",
      "La muestra 38 está en fase Maduro\n",
      "La muestra 39 está en fase Maduro\n",
      "La muestra 40 está en fase Maduro\n",
      "La muestra 41 está en fase Maduro\n",
      "La muestra 42 está en fase Maduro\n",
      "La muestra 43 está en fase Maduro\n",
      "La muestra 44 está en fase Maduro\n",
      "La muestra 45 está en fase Maduro\n",
      "La muestra 46 está en fase Añoso\n",
      "La muestra 47 está en fase Maduro\n",
      "La muestra 48 está en fase Añoso\n",
      "La muestra 49 está en fase Maduro\n",
      "La muestra 50 está en fase Maduro\n",
      "La muestra 51 está en fase Maduro\n",
      "La muestra 52 está en fase Maduro\n",
      "La muestra 53 está en fase Maduro\n",
      "La muestra 54 está en fase Joven\n",
      "La muestra 55 está en fase Joven\n",
      "La muestra 56 está en fase Añoso\n",
      "La muestra 57 está en fase Maduro\n",
      "La muestra 58 está en fase Maduro\n",
      "La muestra 59 está en fase Maduro\n",
      "La muestra 60 está en fase Maduro\n",
      "La muestra 61 está en fase Maduro\n",
      "La muestra 62 está en fase Decrépito\n",
      "La muestra 63 está en fase Maduro\n",
      "La muestra 64 está en fase Maduro\n",
      "La muestra 65 está en fase Maduro\n",
      "La muestra 66 está en fase Añoso\n",
      "La muestra 67 está en fase Maduro\n",
      "La muestra 68 está en fase Maduro\n",
      "La muestra 69 está en fase Maduro\n",
      "La muestra 70 está en fase Maduro\n",
      "La muestra 71 está en fase Maduro\n",
      "La muestra 72 está en fase Maduro\n",
      "La muestra 73 está en fase Maduro\n",
      "La muestra 74 está en fase Maduro\n",
      "La muestra 75 está en fase Añoso\n",
      "La muestra 76 está en fase Maduro\n",
      "La muestra 77 está en fase Añoso\n",
      "La muestra 78 está en fase Maduro\n",
      "La muestra 79 está en fase Maduro\n",
      "La muestra 80 está en fase Maduro\n",
      "La muestra 81 está en fase Maduro\n",
      "La muestra 82 está en fase Añoso\n",
      "La muestra 83 está en fase Maduro\n",
      "La muestra 84 está en fase Maduro\n",
      "La muestra 85 está en fase Maduro\n",
      "La muestra 86 está en fase Maduro\n",
      "La muestra 87 está en fase Maduro\n",
      "La muestra 88 está en fase Maduro\n",
      "La muestra 89 está en fase Maduro\n",
      "La muestra 90 está en fase Maduro\n",
      "La muestra 91 está en fase Maduro\n",
      "La muestra 92 está en fase Maduro\n",
      "La muestra 93 está en fase Maduro\n",
      "La muestra 94 está en fase Maduro\n",
      "La muestra 95 está en fase Maduro\n",
      "La muestra 96 está en fase Maduro\n",
      "La muestra 97 está en fase Maduro\n",
      "La muestra 98 está en fase Maduro\n",
      "La muestra 99 está en fase Maduro\n",
      "La muestra 100 está en fase Maduro\n"
     ]
    }
   ],
   "source": [
    "# Invertir el label map para faseVital\n",
    "fase_map_invertido = {v: k for k, v in label_maps['faseVital'].items()}\n",
    "\n",
    "# Iterar sobre las predicciones y mostrar el mensaje\n",
    "for i, pred in enumerate(y_pred_synthetic_rounded, 1):  # empezamos la numeración en 1\n",
    "    fase = fase_map_invertido[pred]\n",
    "    print(f\"La muestra {i} está en fase {fase}\")\n"
   ]
  }
 ],
 "metadata": {
  "kernelspec": {
   "display_name": "Python 3",
   "language": "python",
   "name": "python3"
  },
  "language_info": {
   "codemirror_mode": {
    "name": "ipython",
    "version": 3
   },
   "file_extension": ".py",
   "mimetype": "text/x-python",
   "name": "python",
   "nbconvert_exporter": "python",
   "pygments_lexer": "ipython3",
   "version": "3.13.7"
  }
 },
 "nbformat": 4,
 "nbformat_minor": 5
}
