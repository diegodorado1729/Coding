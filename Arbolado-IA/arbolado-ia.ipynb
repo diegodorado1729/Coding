{
 "cells": [
  {
   "cell_type": "markdown",
   "id": "14cb1ea9",
   "metadata": {},
   "source": [
    "# Arbolado IA\n",
    "-------"
   ]
  },
  {
   "cell_type": "markdown",
   "id": "4222edc4",
   "metadata": {
    "vscode": {
     "languageId": "plaintext"
    }
   },
   "source": [
    "### Paquetes\n",
    "---"
   ]
  },
  {
   "cell_type": "code",
   "execution_count": 261,
   "id": "824891a5",
   "metadata": {},
   "outputs": [],
   "source": [
    "# General\n",
    "import ast\n",
    "import json\n",
    "import numpy as np\n",
    "import matplotlib.pyplot as plt\n",
    "import pandas as pd\n",
    "import seaborn as sns\n",
    "import scipy.stats as stats\n",
    "\n",
    "from time import time\n",
    "from sklearn import metrics\n",
    "from sklearn.pipeline import make_pipeline\n",
    "from sklearn.preprocessing import StandardScaler\n",
    "\n",
    "# preprocessing\n",
    "from sklearn.preprocessing import LabelEncoder\n",
    "from sklearn.preprocessing import MinMaxScaler\n",
    "\n",
    "# metrics\n",
    "from sklearn.metrics import (accuracy_score, recall_score, precision_score, f1_score)\n",
    "from sklearn.utils.class_weight import compute_class_weight\n",
    "from sklearn.metrics import classification_report, confusion_matrix, ConfusionMatrixDisplay\n",
    "from sklearn.metrics import RocCurveDisplay\n",
    "\n",
    "# sklearn & XGB\n",
    "from sklearn.ensemble import RandomForestRegressor\n",
    "from sklearn.ensemble import RandomForestClassifier\n",
    "from sklearn.tree import DecisionTreeClassifier\n",
    "from sklearn.model_selection import train_test_split\n",
    "from sklearn.metrics import mean_squared_error, r2_score\n",
    "from sklearn.metrics import accuracy_score, classification_report, confusion_matrix\n",
    "\n",
    "import xgboost as xgb\n",
    "from xgboost import XGBRegressor \n",
    "from xgboost import XGBClassifier\n",
    "\n",
    "\n",
    "\n",
    "# imbalanced-learn\n",
    "from imblearn.over_sampling import SMOTE\n",
    "\n",
    "# model_selection\n",
    "from sklearn.model_selection import GridSearchCV, train_test_split, StratifiedShuffleSplit"
   ]
  },
  {
   "cell_type": "markdown",
   "id": "d5e9f575",
   "metadata": {},
   "source": [
    "### Carga de datos\n",
    "----"
   ]
  },
  {
   "cell_type": "code",
   "execution_count": 233,
   "id": "9f63dfea",
   "metadata": {},
   "outputs": [],
   "source": [
    "# Carga de datos\n",
    "df = pd.read_csv('./data-arbolado-junior.csv')"
   ]
  },
  {
   "cell_type": "code",
   "execution_count": 234,
   "id": "34b1c82a",
   "metadata": {},
   "outputs": [
    {
     "name": "stdout",
     "output_type": "stream",
     "text": [
      "El tamaño del DataFrame es: \n",
      "\n",
      "Shape: (3823, 28)\n"
     ]
    },
    {
     "data": {
      "text/html": [
       "<div>\n",
       "<style scoped>\n",
       "    .dataframe tbody tr th:only-of-type {\n",
       "        vertical-align: middle;\n",
       "    }\n",
       "\n",
       "    .dataframe tbody tr th {\n",
       "        vertical-align: top;\n",
       "    }\n",
       "\n",
       "    .dataframe thead th {\n",
       "        text-align: right;\n",
       "    }\n",
       "</style>\n",
       "<table border=\"1\" class=\"dataframe\">\n",
       "  <thead>\n",
       "    <tr style=\"text-align: right;\">\n",
       "      <th></th>\n",
       "      <th>id</th>\n",
       "      <th>fecha</th>\n",
       "      <th>latitud</th>\n",
       "      <th>longitud</th>\n",
       "      <th>direccion</th>\n",
       "      <th>barrioNombre</th>\n",
       "      <th>altura</th>\n",
       "      <th>fuste</th>\n",
       "      <th>faseVital</th>\n",
       "      <th>estadoFitosanitario</th>\n",
       "      <th>...</th>\n",
       "      <th>manejoInadecuado</th>\n",
       "      <th>intervenciones</th>\n",
       "      <th>distForestalAdecuada</th>\n",
       "      <th>interf</th>\n",
       "      <th>cazuela</th>\n",
       "      <th>levantamientoVereda</th>\n",
       "      <th>observaciones</th>\n",
       "      <th>especieNombre</th>\n",
       "      <th>lugarRelevamientoNombre</th>\n",
       "      <th>tipoLugarNombre</th>\n",
       "    </tr>\n",
       "  </thead>\n",
       "  <tbody>\n",
       "    <tr>\n",
       "      <th>0</th>\n",
       "      <td>55216</td>\n",
       "      <td>7/2/2018</td>\n",
       "      <td>-31.418802</td>\n",
       "      <td>-64.170274</td>\n",
       "      <td>906</td>\n",
       "      <td>Juniors</td>\n",
       "      <td>Entre 4m. y 7m.</td>\n",
       "      <td>Entre 0,10m. y 0,40m.</td>\n",
       "      <td>Maduro</td>\n",
       "      <td>Bueno</td>\n",
       "      <td>...</td>\n",
       "      <td>No</td>\n",
       "      <td>Mantenimiento</td>\n",
       "      <td>True</td>\n",
       "      <td>False</td>\n",
       "      <td>Inadecuada</td>\n",
       "      <td>Leve</td>\n",
       "      <td>NaN</td>\n",
       "      <td>Palmera Pindó</td>\n",
       "      <td>Americo Vespucio 900-1000</td>\n",
       "      <td>Calle</td>\n",
       "    </tr>\n",
       "    <tr>\n",
       "      <th>1</th>\n",
       "      <td>55217</td>\n",
       "      <td>7/2/2018</td>\n",
       "      <td>-31.418807</td>\n",
       "      <td>-64.170212</td>\n",
       "      <td>916</td>\n",
       "      <td>Juniors</td>\n",
       "      <td>Entre 4m. y 7m.</td>\n",
       "      <td>Entre 0,10m. y 0,40m.</td>\n",
       "      <td>Maduro</td>\n",
       "      <td>Regular</td>\n",
       "      <td>...</td>\n",
       "      <td>Leve</td>\n",
       "      <td>Mantenimiento</td>\n",
       "      <td>True</td>\n",
       "      <td>True</td>\n",
       "      <td>Adecuada</td>\n",
       "      <td>Leve</td>\n",
       "      <td>NaN</td>\n",
       "      <td>Siempre Verde</td>\n",
       "      <td>Americo Vespucio 900-1000</td>\n",
       "      <td>Calle</td>\n",
       "    </tr>\n",
       "    <tr>\n",
       "      <th>2</th>\n",
       "      <td>55218</td>\n",
       "      <td>7/2/2018</td>\n",
       "      <td>-31.418807</td>\n",
       "      <td>-64.170161</td>\n",
       "      <td>924</td>\n",
       "      <td>Juniors</td>\n",
       "      <td>Menor a 4m.</td>\n",
       "      <td>Entre 0,10m. y 0,40m.</td>\n",
       "      <td>Maduro</td>\n",
       "      <td>Bueno</td>\n",
       "      <td>...</td>\n",
       "      <td>Leve</td>\n",
       "      <td>Mantenimiento</td>\n",
       "      <td>True</td>\n",
       "      <td>False</td>\n",
       "      <td>Franja Verde</td>\n",
       "      <td>No</td>\n",
       "      <td>NaN</td>\n",
       "      <td>Crespón</td>\n",
       "      <td>Americo Vespucio 900-1000</td>\n",
       "      <td>Calle</td>\n",
       "    </tr>\n",
       "    <tr>\n",
       "      <th>3</th>\n",
       "      <td>55219</td>\n",
       "      <td>7/2/2018</td>\n",
       "      <td>-31.418832</td>\n",
       "      <td>-64.170114</td>\n",
       "      <td>930</td>\n",
       "      <td>Juniors</td>\n",
       "      <td>Entre 7m. y 10m.</td>\n",
       "      <td>Entre 0,10m. y 0,40m.</td>\n",
       "      <td>Maduro</td>\n",
       "      <td>Bueno</td>\n",
       "      <td>...</td>\n",
       "      <td>Leve</td>\n",
       "      <td>Mantenimiento</td>\n",
       "      <td>True</td>\n",
       "      <td>False</td>\n",
       "      <td>Franja Verde</td>\n",
       "      <td>No</td>\n",
       "      <td>NaN</td>\n",
       "      <td>Guaran Amarillo</td>\n",
       "      <td>Americo Vespucio 900-1000</td>\n",
       "      <td>Calle</td>\n",
       "    </tr>\n",
       "    <tr>\n",
       "      <th>4</th>\n",
       "      <td>55220</td>\n",
       "      <td>7/2/2018</td>\n",
       "      <td>-31.418868</td>\n",
       "      <td>-64.169999</td>\n",
       "      <td>932</td>\n",
       "      <td>Juniors</td>\n",
       "      <td>Menor a 4m.</td>\n",
       "      <td>Menor a 0,10m.</td>\n",
       "      <td>Maduro</td>\n",
       "      <td>Bueno</td>\n",
       "      <td>...</td>\n",
       "      <td>Leve</td>\n",
       "      <td>Mantenimiento</td>\n",
       "      <td>True</td>\n",
       "      <td>False</td>\n",
       "      <td>Franja Verde</td>\n",
       "      <td>No</td>\n",
       "      <td>NaN</td>\n",
       "      <td>Ficus Benjamina</td>\n",
       "      <td>Americo Vespucio 900-1000</td>\n",
       "      <td>Calle</td>\n",
       "    </tr>\n",
       "  </tbody>\n",
       "</table>\n",
       "<p>5 rows × 28 columns</p>\n",
       "</div>"
      ],
      "text/plain": [
       "      id     fecha    latitud   longitud direccion barrioNombre  \\\n",
       "0  55216  7/2/2018 -31.418802 -64.170274       906      Juniors   \n",
       "1  55217  7/2/2018 -31.418807 -64.170212       916      Juniors   \n",
       "2  55218  7/2/2018 -31.418807 -64.170161       924      Juniors   \n",
       "3  55219  7/2/2018 -31.418832 -64.170114       930      Juniors   \n",
       "4  55220  7/2/2018 -31.418868 -64.169999       932      Juniors   \n",
       "\n",
       "             altura                  fuste faseVital estadoFitosanitario  ...  \\\n",
       "0   Entre 4m. y 7m.  Entre 0,10m. y 0,40m.    Maduro               Bueno  ...   \n",
       "1   Entre 4m. y 7m.  Entre 0,10m. y 0,40m.    Maduro             Regular  ...   \n",
       "2       Menor a 4m.  Entre 0,10m. y 0,40m.    Maduro               Bueno  ...   \n",
       "3  Entre 7m. y 10m.  Entre 0,10m. y 0,40m.    Maduro               Bueno  ...   \n",
       "4       Menor a 4m.         Menor a 0,10m.    Maduro               Bueno  ...   \n",
       "\n",
       "  manejoInadecuado intervenciones distForestalAdecuada interf       cazuela  \\\n",
       "0               No  Mantenimiento                 True  False    Inadecuada   \n",
       "1             Leve  Mantenimiento                 True   True      Adecuada   \n",
       "2             Leve  Mantenimiento                 True  False  Franja Verde   \n",
       "3             Leve  Mantenimiento                 True  False  Franja Verde   \n",
       "4             Leve  Mantenimiento                 True  False  Franja Verde   \n",
       "\n",
       "  levantamientoVereda observaciones    especieNombre  \\\n",
       "0                Leve           NaN    Palmera Pindó   \n",
       "1                Leve           NaN    Siempre Verde   \n",
       "2                  No           NaN          Crespón   \n",
       "3                  No           NaN  Guaran Amarillo   \n",
       "4                  No           NaN  Ficus Benjamina   \n",
       "\n",
       "     lugarRelevamientoNombre tipoLugarNombre  \n",
       "0  Americo Vespucio 900-1000           Calle  \n",
       "1  Americo Vespucio 900-1000           Calle  \n",
       "2  Americo Vespucio 900-1000           Calle  \n",
       "3  Americo Vespucio 900-1000           Calle  \n",
       "4  Americo Vespucio 900-1000           Calle  \n",
       "\n",
       "[5 rows x 28 columns]"
      ]
     },
     "execution_count": 234,
     "metadata": {},
     "output_type": "execute_result"
    }
   ],
   "source": [
    "print(\"El tamaño del DataFrame es: \\n\")\n",
    "print(f'Shape: {df.shape}')\n",
    "\n",
    "df.head()"
   ]
  },
  {
   "cell_type": "markdown",
   "id": "aed092fd",
   "metadata": {},
   "source": [
    "## Ingeniería de Datos\n",
    "----"
   ]
  },
  {
   "cell_type": "code",
   "execution_count": 235,
   "id": "26ee4de0",
   "metadata": {},
   "outputs": [],
   "source": [
    "cols_to_drop = [\n",
    "    \"id\", \"fecha\", \"latitud\", \"longitud\", \"direccion\", \n",
    "    \"barrioNombre\", \"observaciones\", \"lugarRelevamientoNombre\", \n",
    "    \"tipoLugarNombre\"\n",
    "]\n",
    "df = df.drop(columns=cols_to_drop)"
   ]
  },
  {
   "cell_type": "code",
   "execution_count": 236,
   "id": "f012d669",
   "metadata": {},
   "outputs": [
    {
     "name": "stdout",
     "output_type": "stream",
     "text": [
      "Index(['altura', 'fuste', 'faseVital', 'estadoFitosanitario', 'inclinacion',\n",
      "       'ahuecamiento', 'problemaDesrames', 'problemaDescalzado',\n",
      "       'problemaFustePartido', 'problemaObjetoExtranio', 'problemaGrieta',\n",
      "       'problemaDesequilibrioCopa', 'manejoInadecuado', 'intervenciones',\n",
      "       'distForestalAdecuada', 'interf', 'cazuela', 'levantamientoVereda',\n",
      "       'especieNombre'],\n",
      "      dtype='object')\n"
     ]
    }
   ],
   "source": [
    "print(df.columns)"
   ]
  },
  {
   "cell_type": "markdown",
   "id": "c8b20cd4",
   "metadata": {},
   "source": [
    "### DataFrame discreto\n",
    "---"
   ]
  },
  {
   "cell_type": "code",
   "execution_count": 237,
   "id": "91af650a",
   "metadata": {},
   "outputs": [
    {
     "name": "stdout",
     "output_type": "stream",
     "text": [
      "Filas con al menos un NaN: 445\n"
     ]
    }
   ],
   "source": [
    "filas_con_nan = df.isna().any(axis=1)\n",
    "\n",
    "# Cantidad de filas con al menos un dato vacío\n",
    "print(f\"Filas con al menos un NaN: {filas_con_nan.sum()}\")\n",
    "\n",
    "# Filtrar esas filas\n",
    "df = df[~df.isna().any(axis=1)].copy()"
   ]
  },
  {
   "cell_type": "code",
   "execution_count": 238,
   "id": "1e016a4d",
   "metadata": {},
   "outputs": [],
   "source": [
    "label_maps = {}\n",
    "\n",
    "le = LabelEncoder()\n",
    "\n",
    "for col in df.columns:\n",
    "    # Ignora columnas completamente vacías\n",
    "    if df[col].dropna().empty:\n",
    "        continue\n",
    "\n",
    "    first_val = df[col].dropna().iloc[0]\n",
    "\n",
    "    # Columnas booleanas (True/False)\n",
    "    if isinstance(first_val, bool):\n",
    "        df[col] = df[col].astype('boolean').fillna(False).astype(int)\n",
    "    \n",
    "    elif col == 'especieNombre' or col == 'cazuela':\n",
    "        df[col] = le.fit_transform(df[col].astype(str))\n"
   ]
  },
  {
   "cell_type": "code",
   "execution_count": 239,
   "id": "c23d6212",
   "metadata": {},
   "outputs": [],
   "source": [
    "# Diccionarios de remapeo\n",
    "altura_map = {\n",
    "    'Menor a 4m.': 0,\n",
    "    'Entre 4m. y 7m.': 1,\n",
    "    'Entre 7m. y 10m.': 2,\n",
    "    'Mayor a 10m': 3\n",
    "}\n",
    "\n",
    "fuste_map = {\n",
    "    'Menor a 0,10m.': 0,\n",
    "    'Entre 0,10m. y 0,40m.': 1,\n",
    "    'Mayor 0,40m': 2,\n",
    "}\n",
    "\n",
    "estadoFitosanitario_map = {\n",
    "    'Bueno': 0,\n",
    "    'Regular': 1,\n",
    "    'Malo': 2,\n",
    "    'Muerto': 3\n",
    "}\n",
    "\n",
    "leve_no_severa_map = {\n",
    "    'No': 0,\n",
    "    'Leve': 1,\n",
    "    'Severa': 2\n",
    "}\n",
    "\n",
    "intervenciones_map = {\n",
    "    'Sin intervenciones': 0,\n",
    "    'Descopado': 1,\n",
    "    'Despunte': 2,\n",
    "    'Mantenimiento': 3,\n",
    "    'Raíces': 4,\n",
    "    'Tala': 5,\n",
    "    'Varias intervenciones': 6\n",
    "}\n",
    "\n",
    "levantamientoVereda_map = {\n",
    "    'No': 0,\n",
    "    'Leve': 1,\n",
    "    'Considerable': 2,\n",
    "}\n",
    "\n",
    "faseVital_map = {\n",
    "    \"Recién implantado\": 0,\n",
    "    \"Joven\": 1,\n",
    "    \"Maduro\": 2,\n",
    "    \"Añoso\": 3,\n",
    "    \"Decrépito\": 4\n",
    "}\n",
    "\n",
    "# Aplicar remapeos en df\n",
    "df['altura'] = df['altura'].map(altura_map)\n",
    "df['fuste'] = df['fuste'].map(fuste_map)\n",
    "df['estadoFitosanitario'] = df['estadoFitosanitario'].map(estadoFitosanitario_map)\n",
    "\n",
    "# Columnas que comparten clasificación\n",
    "for col in ['inclinacion', 'ahuecamiento', 'manejoInadecuado']:\n",
    "    df[col] = df[col].map(leve_no_severa_map)\n",
    "\n",
    "df['intervenciones'] = df['intervenciones'].map(intervenciones_map)\n",
    "df['levantamientoVereda'] = df['levantamientoVereda'].map(levantamientoVereda_map)\n",
    "df['faseVital'] = df['faseVital'].map(faseVital_map)\n",
    "\n",
    "# Actualizar label_maps\n",
    "label_maps.update({\n",
    "    'altura': altura_map,\n",
    "    'fuste': fuste_map,\n",
    "    'estadoFitosanitario': estadoFitosanitario_map,\n",
    "    'inclinacion': leve_no_severa_map,\n",
    "    'ahuecamiento': leve_no_severa_map,\n",
    "    'manejoInadecuado': leve_no_severa_map,\n",
    "    'intervenciones': intervenciones_map,\n",
    "    'levantamientoVereda': levantamientoVereda_map,\n",
    "    'faseVital': faseVital_map\n",
    "})\n"
   ]
  },
  {
   "cell_type": "markdown",
   "id": "5da13796",
   "metadata": {},
   "source": [
    "### DataFrame continuo\n",
    "----"
   ]
  },
  {
   "cell_type": "code",
   "execution_count": 240,
   "id": "028a6d89",
   "metadata": {},
   "outputs": [],
   "source": [
    "# Copiar el DataFrame original codificado\n",
    "df_cont = df.copy()\n",
    "\n",
    "# Quitar columna de especies\n",
    "df_cont = df_cont.drop(columns=['especieNombre'])\n",
    "\n",
    "# One-hot encoding solo de la columna especieNombre\n",
    "# df_cont = pd.get_dummies(df_cont, columns=['especieNombre'])\n",
    "\n",
    "# Inicializar el scaler\n",
    "scaler = MinMaxScaler()\n",
    "\n",
    "# Ajustar y transformar todas las columnas (o solo las que quieres escalar)\n",
    "df_cont[df_cont.columns] = scaler.fit_transform(df_cont[df_cont.columns])"
   ]
  },
  {
   "cell_type": "markdown",
   "id": "c5c315c2",
   "metadata": {},
   "source": [
    "## Entrenamiento\n",
    "----"
   ]
  },
  {
   "cell_type": "markdown",
   "id": "18adf118",
   "metadata": {},
   "source": [
    "### XGBoost - Regressor \n",
    "---"
   ]
  },
  {
   "cell_type": "code",
   "execution_count": 241,
   "id": "af5ffd6a",
   "metadata": {},
   "outputs": [
    {
     "name": "stdout",
     "output_type": "stream",
     "text": [
      "RMSE: 0.14304880218618243\n",
      "R²: 0.058731770291487795\n"
     ]
    }
   ],
   "source": [
    "# Features (todas menos la columna objetivo)\n",
    "X_XGB = df_cont.drop(\"estadoFitosanitario\", axis=1)\n",
    "\n",
    "# Target (asegurarse de que sea numérico)\n",
    "y_XGB = df_cont[\"estadoFitosanitario\"].astype(float)\n",
    "\n",
    "# Train/Test split\n",
    "X_train, X_test, y_train, y_test = train_test_split(\n",
    "    X_XGB, y_XGB, test_size=0.2, random_state=42\n",
    ")\n",
    "\n",
    "# Definir modelo XGBoost para regresión\n",
    "xgb_reg = XGBRegressor(\n",
    "    n_estimators=300,\n",
    "    learning_rate=0.1,\n",
    "    max_depth=6,\n",
    "    subsample=0.8,\n",
    "    colsample_bytree=0.8,\n",
    "    random_state=42,\n",
    "    n_jobs=-1\n",
    ")\n",
    "\n",
    "# Entrenar\n",
    "xgb_reg.fit(X_train, y_train)\n",
    "\n",
    "# Predecir\n",
    "y_pred = xgb_reg.predict(X_test)\n",
    "\n",
    "# Evaluar con métricas de regresión\n",
    "rmse = np.sqrt(mean_squared_error(y_test, y_pred))\n",
    "r2 = r2_score(y_test, y_pred)\n",
    "\n",
    "print(\"RMSE:\", rmse)\n",
    "print(\"R²:\", r2)\n"
   ]
  },
  {
   "cell_type": "code",
   "execution_count": 242,
   "id": "a1929aff",
   "metadata": {},
   "outputs": [
    {
     "name": "stdout",
     "output_type": "stream",
     "text": [
      "faseVital                    0.140972\n",
      "intervenciones               0.099398\n",
      "problemaDescalzado           0.095353\n",
      "problemaDesrames             0.078741\n",
      "manejoInadecuado             0.077692\n",
      "ahuecamiento                 0.068830\n",
      "problemaFustePartido         0.047297\n",
      "fuste                        0.045835\n",
      "problemaGrieta               0.043449\n",
      "problemaObjetoExtranio       0.041548\n",
      "altura                       0.040985\n",
      "interf                       0.040103\n",
      "cazuela                      0.039077\n",
      "distForestalAdecuada         0.037880\n",
      "problemaDesequilibrioCopa    0.035577\n",
      "levantamientoVereda          0.033985\n",
      "inclinacion                  0.033278\n",
      "dtype: float32\n"
     ]
    },
    {
     "data": {
      "image/png": "[encoded data removed]",
      "text/plain": [
       "<Figure size 1000x600 with 1 Axes>"
      ]
     },
     "metadata": {},
     "output_type": "display_data"
    }
   ],
   "source": [
    "# Suponiendo que tu modelo se llama xgb_reg y tu DataFrame X\n",
    "feature_importances = pd.Series(\n",
    "    xgb_reg.feature_importances_,\n",
    "    index=X_XGB.columns\n",
    ").sort_values(ascending=False)\n",
    "\n",
    "# Mostrar importancia\n",
    "print(feature_importances)\n",
    "\n",
    "# Gráfico de barras\n",
    "plt.figure(figsize=(10,6))\n",
    "feature_importances.plot(kind='bar')\n",
    "plt.title(\"Importancia de las variables - XGBoost Regressor\")\n",
    "plt.ylabel(\"Importancia\")\n",
    "plt.xlabel(\"Características\")\n",
    "plt.xticks(rotation=45, ha='right')\n",
    "plt.tight_layout()\n",
    "plt.show()\n"
   ]
  },
  {
   "cell_type": "code",
   "execution_count": 245,
   "id": "23f39ae2",
   "metadata": {},
   "outputs": [],
   "source": [
    "# Lista de columnas a eliminar\n",
    "cols_a_eliminar = [\"cazuela\", \"problemaGrieta\", \"inclinacion\", \"distForestalAdecuada\", \"levantamientoVereda\",  \"problemaDesequilibrioCopa\", \"interf\"]\n",
    "\n",
    "# Crear un nuevo DataFrame solo con las columnas más importantes\n",
    "df_reducido = df_cont.drop(columns=cols_a_eliminar)\n"
   ]
  },
  {
   "cell_type": "code",
   "execution_count": 246,
   "id": "a5a3167e",
   "metadata": {},
   "outputs": [
    {
     "name": "stdout",
     "output_type": "stream",
     "text": [
      "RMSE: 0.13456380832639095\n",
      "R²: 0.16708345578748263\n"
     ]
    }
   ],
   "source": [
    "# Features (todas menos la columna objetivo)\n",
    "X = df_reducido.drop(\"estadoFitosanitario\", axis=1)\n",
    "\n",
    "# Target (asegurarse de que sea numérico)\n",
    "y = df_reducido[\"estadoFitosanitario\"].astype(float)\n",
    "\n",
    "# Train/Test split\n",
    "X_train, X_test, y_train, y_test = train_test_split(\n",
    "    X, y, test_size=0.2, random_state=42\n",
    ")\n",
    "\n",
    "# Definir modelo XGBoost para regresión\n",
    "xgb_reg = XGBRegressor(\n",
    "    n_estimators=300,\n",
    "    learning_rate=0.1,\n",
    "    max_depth=6,\n",
    "    subsample=0.8,\n",
    "    colsample_bytree=0.8,\n",
    "    random_state=42,\n",
    "    n_jobs=-1\n",
    ")\n",
    "\n",
    "# Entrenar\n",
    "xgb_reg.fit(X_train, y_train)\n",
    "\n",
    "# Predecir\n",
    "y_pred = xgb_reg.predict(X_test)\n",
    "\n",
    "# Evaluar con métricas de regresión\n",
    "rmse = np.sqrt(mean_squared_error(y_test, y_pred))\n",
    "r2 = r2_score(y_test, y_pred)\n",
    "\n",
    "print(\"RMSE:\", rmse)\n",
    "print(\"R²:\", r2)"
   ]
  },
  {
   "cell_type": "markdown",
   "id": "eb7f5db8",
   "metadata": {},
   "source": [
    "### XGBoost - Classifier\n",
    "---"
   ]
  },
  {
   "cell_type": "code",
   "execution_count": 257,
   "id": "8d9eff30",
   "metadata": {},
   "outputs": [
    {
     "name": "stdout",
     "output_type": "stream",
     "text": [
      "Accuracy: 0.7322485207100592\n",
      "\n",
      "Classification Report:\n",
      "               precision    recall  f1-score   support\n",
      "\n",
      "           0       0.40      0.59      0.48        91\n",
      "           1       0.89      0.78      0.83       546\n",
      "           2       0.25      0.47      0.33        32\n",
      "           3       0.25      0.29      0.27         7\n",
      "\n",
      "    accuracy                           0.73       676\n",
      "   macro avg       0.45      0.53      0.48       676\n",
      "weighted avg       0.79      0.73      0.75       676\n",
      "\n"
     ]
    },
    {
     "data": {
      "text/plain": [
       "<sklearn.metrics._plot.confusion_matrix.ConfusionMatrixDisplay at 0x18201ed3a80>"
      ]
     },
     "execution_count": 257,
     "metadata": {},
     "output_type": "execute_result"
    },
    {
     "data": {
      "image/png": "[encoded data removed]",
      "text/plain": [
       "<Figure size 640x480 with 2 Axes>"
      ]
     },
     "metadata": {},
     "output_type": "display_data"
    }
   ],
   "source": [
    "# Features (todas menos la columna objetivo)\n",
    "X = df.drop(\"estadoFitosanitario\", axis=1)\n",
    "\n",
    "# Target (asegurarse de que sea entero)\n",
    "y = df[\"estadoFitosanitario\"].astype(int)\n",
    "\n",
    "# Train/Test split\n",
    "X_train, X_test, y_train, y_test = train_test_split(\n",
    "    X, y, test_size=0.2, random_state=42, stratify=y\n",
    ")\n",
    "\n",
    "# Calcular pesos para cada clase\n",
    "classes = np.unique(y_train)\n",
    "weights = compute_class_weight(class_weight='balanced', classes=classes, y=y_train)\n",
    "class_weights = dict(zip(classes, weights))\n",
    "\n",
    "# Mapear cada muestra a su peso\n",
    "sample_weights = y_train.map(class_weights)\n",
    "\n",
    "# Definir modelo XGBoost para clasificación\n",
    "xgb_clf = XGBClassifier(\n",
    "    n_estimators=300,\n",
    "    learning_rate=0.1,\n",
    "    max_depth=6,\n",
    "    subsample=0.8,\n",
    "    colsample_bytree=0.8,\n",
    "    random_state=42,\n",
    "    n_jobs=-1\n",
    ")\n",
    "\n",
    "# Entrenar\n",
    "xgb_clf.fit(X_train, y_train, sample_weight=sample_weights)\n",
    "\n",
    "# Predecir\n",
    "y_pred = xgb_clf.predict(X_test)\n",
    "\n",
    "# Métricas de clasificación\n",
    "accuracy = accuracy_score(y_test, y_pred)\n",
    "print(\"Accuracy:\", accuracy)\n",
    "\n",
    "print(\"\\nClassification Report:\\n\", classification_report(y_test, y_pred))\n",
    "\n",
    "# Matriz de confusión\n",
    "disp_pre = ConfusionMatrixDisplay(confusion_matrix=confusion_matrix(y_test, y_pred), display_labels=[0,1,2,3])\n",
    "disp_pre.plot()\n"
   ]
  },
  {
   "cell_type": "markdown",
   "id": "34605165",
   "metadata": {},
   "source": [
    "### Random Forest Regressor\n",
    "---"
   ]
  },
  {
   "cell_type": "code",
   "execution_count": 247,
   "id": "979cc2c1",
   "metadata": {},
   "outputs": [
    {
     "name": "stdout",
     "output_type": "stream",
     "text": [
      "Random Forest Regressor\n",
      "RMSE: 0.14340582921772832\n",
      "R²: 0.05402739569095305\n"
     ]
    }
   ],
   "source": [
    "X_rf = df_cont.drop(\"estadoFitosanitario\", axis=1)\n",
    "y_rf = df_cont[\"estadoFitosanitario\"].astype(float)\n",
    "\n",
    "X_train, X_test, y_train, y_test = train_test_split(\n",
    "    X_rf, y_rf, test_size=0.2, random_state=42\n",
    ")\n",
    "\n",
    "rf_reg = RandomForestRegressor(\n",
    "    n_estimators=300,   # número de árboles\n",
    "    max_depth=None,     # profundidad máxima de los árboles\n",
    "    random_state=42,\n",
    "    n_jobs=-1\n",
    ")\n",
    "\n",
    "rf_reg.fit(X_train, y_train)\n",
    "\n",
    "y_pred = rf_reg.predict(X_test)\n",
    "\n",
    "rmse = np.sqrt(mean_squared_error(y_test, y_pred))\n",
    "r2 = r2_score(y_test, y_pred)\n",
    "\n",
    "print(\"Random Forest Regressor\")\n",
    "print(\"RMSE:\", rmse)\n",
    "print(\"R²:\", r2)"
   ]
  },
  {
   "cell_type": "markdown",
   "id": "e176623c",
   "metadata": {},
   "source": [
    "### Random Foresft - Classifier\n",
    "---"
   ]
  },
  {
   "cell_type": "code",
   "execution_count": 260,
   "id": "5fedf25d",
   "metadata": {},
   "outputs": [
    {
     "name": "stdout",
     "output_type": "stream",
     "text": [
      "Accuracy: 0.7928994082840237\n",
      "\n",
      "Classification Report:\n",
      "               precision    recall  f1-score   support\n",
      "\n",
      "           0       0.50      0.36      0.42        91\n",
      "           1       0.86      0.90      0.88       546\n",
      "           2       0.30      0.28      0.29        32\n",
      "           3       0.33      0.29      0.31         7\n",
      "\n",
      "    accuracy                           0.79       676\n",
      "   macro avg       0.50      0.46      0.47       676\n",
      "weighted avg       0.78      0.79      0.78       676\n",
      "\n"
     ]
    },
    {
     "data": {
      "text/plain": [
       "<sklearn.metrics._plot.confusion_matrix.ConfusionMatrixDisplay at 0x18201ed2650>"
      ]
     },
     "execution_count": 260,
     "metadata": {},
     "output_type": "execute_result"
    },
    {
     "data": {
      "image/png": "[encoded data removed]",
      "text/plain": [
       "<Figure size 640x480 with 2 Axes>"
      ]
     },
     "metadata": {},
     "output_type": "display_data"
    }
   ],
   "source": [
    "# Train/Test split\n",
    "X_train, X_test, y_train, y_test = train_test_split(\n",
    "    X, y, test_size=0.2, random_state=42, stratify=y\n",
    ")\n",
    "\n",
    "# Definir RandomForestClassifier\n",
    "rf_clf = RandomForestClassifier(\n",
    "    n_estimators=300,\n",
    "    max_depth=None,\n",
    "    random_state=42,\n",
    "    n_jobs=-1,\n",
    "    class_weight='balanced'  # esto equilibra automáticamente las clases\n",
    ")\n",
    "\n",
    "# 3Entrenar\n",
    "rf_clf.fit(X_train, y_train)\n",
    "\n",
    "# 4Predecir\n",
    "y_pred = rf_clf.predict(X_test)\n",
    "\n",
    "# Métricas\n",
    "accuracy = accuracy_score(y_test, y_pred)\n",
    "print(\"Accuracy:\", accuracy)\n",
    "print(\"\\nClassification Report:\\n\", classification_report(y_test, y_pred))\n",
    "\n",
    "# Matriz de confusión\n",
    "cm = confusion_matrix(y_test, y_pred)\n",
    "disp_pre = ConfusionMatrixDisplay(cm, display_labels=[0,1,2,3])\n",
    "disp_pre.plot()"
   ]
  },
  {
   "cell_type": "markdown",
   "id": "82e4c968",
   "metadata": {},
   "source": [
    "### Decision Tree Classifier\n",
    "---"
   ]
  },
  {
   "cell_type": "code",
   "execution_count": 262,
   "id": "79cd0f83",
   "metadata": {},
   "outputs": [
    {
     "name": "stdout",
     "output_type": "stream",
     "text": [
      "Accuracy: 0.7130177514792899\n",
      "\n",
      "Classification Report:\n",
      "               precision    recall  f1-score   support\n",
      "\n",
      "           0       0.34      0.36      0.35        91\n",
      "           1       0.85      0.80      0.82       546\n",
      "           2       0.20      0.38      0.26        32\n",
      "           3       0.22      0.29      0.25         7\n",
      "\n",
      "    accuracy                           0.71       676\n",
      "   macro avg       0.40      0.46      0.42       676\n",
      "weighted avg       0.75      0.71      0.73       676\n",
      "\n"
     ]
    },
    {
     "data": {
      "text/plain": [
       "<sklearn.metrics._plot.confusion_matrix.ConfusionMatrixDisplay at 0x18201f2c170>"
      ]
     },
     "execution_count": 262,
     "metadata": {},
     "output_type": "execute_result"
    },
    {
     "data": {
      "image/png": "[encoded data removed]",
      "text/plain": [
       "<Figure size 640x480 with 2 Axes>"
      ]
     },
     "metadata": {},
     "output_type": "display_data"
    }
   ],
   "source": [
    "# Train/Test split\n",
    "X_train, X_test, y_train, y_test = train_test_split(\n",
    "    X, y, test_size=0.2, random_state=42, stratify=y\n",
    ")\n",
    "\n",
    "# Definir árbol de decisión\n",
    "dt_clf = DecisionTreeClassifier(\n",
    "    random_state=42,\n",
    "    class_weight='balanced',  # rebalancea automáticamente las clases\n",
    "    max_depth=None  # puedes ajustar para evitar overfitting\n",
    ")\n",
    "\n",
    "# Entrenar\n",
    "dt_clf.fit(X_train, y_train)\n",
    "\n",
    "# Predecir\n",
    "y_pred = dt_clf.predict(X_test)\n",
    "\n",
    "# Métricas\n",
    "accuracy = accuracy_score(y_test, y_pred)\n",
    "print(\"Accuracy:\", accuracy)\n",
    "print(\"\\nClassification Report:\\n\", classification_report(y_test, y_pred))\n",
    "\n",
    "# Matriz de confusión\n",
    "cm = confusion_matrix(y_test, y_pred)\n",
    "disp_pre = ConfusionMatrixDisplay(cm, display_labels=[0,1,2,3])\n",
    "disp_pre.plot()"
   ]
  },
  {
   "cell_type": "markdown",
   "id": "c110517f",
   "metadata": {},
   "source": [
    "## Prueba del modelo - Datos Artificiales\n",
    "-----"
   ]
  },
  {
   "cell_type": "code",
   "execution_count": 66,
   "id": "286a303b",
   "metadata": {},
   "outputs": [],
   "source": [
    "# Features (todas menos la columna objetivo)\n",
    "X = df1.drop(\"faseVital\", axis=1)\n",
    "\n",
    "# Target (asegurarse de que sea numérico)\n",
    "y = df1[\"faseVital\"].astype(float)"
   ]
  },
  {
   "cell_type": "code",
   "execution_count": 67,
   "id": "7b55e75f",
   "metadata": {},
   "outputs": [],
   "source": [
    "# Número de datos sintéticos que querés generar\n",
    "n_samples = 100\n",
    "\n",
    "synthetic_data = pd.DataFrame()\n",
    "\n",
    "for col in X.columns:  # X = df1.drop(\"faseVital\", axis=1)\n",
    "    if X[col].dtype == float or X[col].dtype == int:\n",
    "        # Generamos valores aleatorios normales con la misma media y desviación\n",
    "        mu = X[col].mean()\n",
    "        sigma = X[col].std()\n",
    "        synthetic_data[col] = np.random.normal(mu, sigma, n_samples).round()\n",
    "    else:\n",
    "        # Para columnas categóricas, muestreamos los valores existentes\n",
    "        synthetic_data[col] = np.random.choice(X[col], size=n_samples, replace=True)\n"
   ]
  },
  {
   "cell_type": "markdown",
   "id": "e52a960e",
   "metadata": {},
   "source": [
    "### XGBoost\n",
    "---"
   ]
  },
  {
   "cell_type": "code",
   "execution_count": 68,
   "id": "f8cff6d8",
   "metadata": {},
   "outputs": [
    {
     "name": "stdout",
     "output_type": "stream",
     "text": [
      "[2 2 2 1 2 2 3 2 2 2 2 2 1 3 2 1 2 2 2 2 3 2 2 2 2 2 2 2 2 3 2 1 2 3 2 3 3\n",
      " 2 2 2 2 2 2 2 2 3 2 3 2 2 2 2 2 1 1 3 2 2 2 2 2 4 2 2 2 3 2 2 2 2 2 2 2 2\n",
      " 3 2 3 2 2 2 2 3 2 2 2 2 2 2 2 2 2 2 2 2 2 2 2 2 2 2]\n"
     ]
    }
   ],
   "source": [
    "# Predecir usando el modelo XGBoost ya entrenado\n",
    "y_pred_synthetic = xgb_reg.predict(synthetic_data)\n",
    "\n",
    "# Si querés mapear a los valores discretos de faseVital (0–4):\n",
    "y_pred_synthetic_rounded = np.clip(np.round(y_pred_synthetic), 0, 4).astype(int)\n",
    "\n",
    "print(y_pred_synthetic_rounded)"
   ]
  },
  {
   "cell_type": "code",
   "execution_count": 69,
   "id": "0dee5e80",
   "metadata": {},
   "outputs": [
    {
     "name": "stdout",
     "output_type": "stream",
     "text": [
      "La muestra 1 está en fase Maduro\n",
      "La muestra 2 está en fase Maduro\n",
      "La muestra 3 está en fase Maduro\n",
      "La muestra 4 está en fase Joven\n",
      "La muestra 5 está en fase Maduro\n",
      "La muestra 6 está en fase Maduro\n",
      "La muestra 7 está en fase Añoso\n",
      "La muestra 8 está en fase Maduro\n",
      "La muestra 9 está en fase Maduro\n",
      "La muestra 10 está en fase Maduro\n",
      "La muestra 11 está en fase Maduro\n",
      "La muestra 12 está en fase Maduro\n",
      "La muestra 13 está en fase Joven\n",
      "La muestra 14 está en fase Añoso\n",
      "La muestra 15 está en fase Maduro\n",
      "La muestra 16 está en fase Joven\n",
      "La muestra 17 está en fase Maduro\n",
      "La muestra 18 está en fase Maduro\n",
      "La muestra 19 está en fase Maduro\n",
      "La muestra 20 está en fase Maduro\n",
      "La muestra 21 está en fase Añoso\n",
      "La muestra 22 está en fase Maduro\n",
      "La muestra 23 está en fase Maduro\n",
      "La muestra 24 está en fase Maduro\n",
      "La muestra 25 está en fase Maduro\n",
      "La muestra 26 está en fase Maduro\n",
      "La muestra 27 está en fase Maduro\n",
      "La muestra 28 está en fase Maduro\n",
      "La muestra 29 está en fase Maduro\n",
      "La muestra 30 está en fase Añoso\n",
      "La muestra 31 está en fase Maduro\n",
      "La muestra 32 está en fase Joven\n",
      "La muestra 33 está en fase Maduro\n",
      "La muestra 34 está en fase Añoso\n",
      "La muestra 35 está en fase Maduro\n",
      "La muestra 36 está en fase Añoso\n",
      "La muestra 37 está en fase Añoso\n",
      "La muestra 38 está en fase Maduro\n",
      "La muestra 39 está en fase Maduro\n",
      "La muestra 40 está en fase Maduro\n",
      "La muestra 41 está en fase Maduro\n",
      "La muestra 42 está en fase Maduro\n",
      "La muestra 43 está en fase Maduro\n",
      "La muestra 44 está en fase Maduro\n",
      "La muestra 45 está en fase Maduro\n",
      "La muestra 46 está en fase Añoso\n",
      "La muestra 47 está en fase Maduro\n",
      "La muestra 48 está en fase Añoso\n",
      "La muestra 49 está en fase Maduro\n",
      "La muestra 50 está en fase Maduro\n",
      "La muestra 51 está en fase Maduro\n",
      "La muestra 52 está en fase Maduro\n",
      "La muestra 53 está en fase Maduro\n",
      "La muestra 54 está en fase Joven\n",
      "La muestra 55 está en fase Joven\n",
      "La muestra 56 está en fase Añoso\n",
      "La muestra 57 está en fase Maduro\n",
      "La muestra 58 está en fase Maduro\n",
      "La muestra 59 está en fase Maduro\n",
      "La muestra 60 está en fase Maduro\n",
      "La muestra 61 está en fase Maduro\n",
      "La muestra 62 está en fase Decrépito\n",
      "La muestra 63 está en fase Maduro\n",
      "La muestra 64 está en fase Maduro\n",
      "La muestra 65 está en fase Maduro\n",
      "La muestra 66 está en fase Añoso\n",
      "La muestra 67 está en fase Maduro\n",
      "La muestra 68 está en fase Maduro\n",
      "La muestra 69 está en fase Maduro\n",
      "La muestra 70 está en fase Maduro\n",
      "La muestra 71 está en fase Maduro\n",
      "La muestra 72 está en fase Maduro\n",
      "La muestra 73 está en fase Maduro\n",
      "La muestra 74 está en fase Maduro\n",
      "La muestra 75 está en fase Añoso\n",
      "La muestra 76 está en fase Maduro\n",
      "La muestra 77 está en fase Añoso\n",
      "La muestra 78 está en fase Maduro\n",
      "La muestra 79 está en fase Maduro\n",
      "La muestra 80 está en fase Maduro\n",
      "La muestra 81 está en fase Maduro\n",
      "La muestra 82 está en fase Añoso\n",
      "La muestra 83 está en fase Maduro\n",
      "La muestra 84 está en fase Maduro\n",
      "La muestra 85 está en fase Maduro\n",
      "La muestra 86 está en fase Maduro\n",
      "La muestra 87 está en fase Maduro\n",
      "La muestra 88 está en fase Maduro\n",
      "La muestra 89 está en fase Maduro\n",
      "La muestra 90 está en fase Maduro\n",
      "La muestra 91 está en fase Maduro\n",
      "La muestra 92 está en fase Maduro\n",
      "La muestra 93 está en fase Maduro\n",
      "La muestra 94 está en fase Maduro\n",
      "La muestra 95 está en fase Maduro\n",
      "La muestra 96 está en fase Maduro\n",
      "La muestra 97 está en fase Maduro\n",
      "La muestra 98 está en fase Maduro\n",
      "La muestra 99 está en fase Maduro\n",
      "La muestra 100 está en fase Maduro\n"
     ]
    }
   ],
   "source": [
    "# Invertir el label map para faseVital\n",
    "fase_map_invertido = {v: k for k, v in label_maps['faseVital'].items()}\n",
    "\n",
    "# Iterar sobre las predicciones y mostrar el mensaje\n",
    "for i, pred in enumerate(y_pred_synthetic_rounded, 1):  # empezamos la numeración en 1\n",
    "    fase = fase_map_invertido[pred]\n",
    "    print(f\"La muestra {i} está en fase {fase}\")\n"
   ]
  }
 ],
 "metadata": {
  "kernelspec": {
   "display_name": "Python 3",
   "language": "python",
   "name": "python3"
  },
  "language_info": {
   "codemirror_mode": {
    "name": "ipython",
    "version": 3
   },
   "file_extension": ".py",
   "mimetype": "text/x-python",
   "name": "python",
   "nbconvert_exporter": "python",
   "pygments_lexer": "ipython3",
   "version": "3.13.3"
  }
 },
 "nbformat": 4,
 "nbformat_minor": 5
}
