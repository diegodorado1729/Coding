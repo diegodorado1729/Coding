{
 "cells": [
  {
   "cell_type": "markdown",
   "id": "3ddfde1d",
   "metadata": {},
   "source": [
    "# Guía No. 4 - Simulaciones de Monte Carlo\n",
    "----\n",
    "by: Diego Dorado"
   ]
  },
  {
   "cell_type": "markdown",
   "id": "32cced52",
   "metadata": {},
   "source": [
    "## Modelo de Ising 2D\n",
    "----\n",
    "\n",
    "Considere el modelo de Ising en la red cuadrada de $N = L \\times L$ sitios (parámetro de red unitario) con interacciones entre primeros vecinos:\n",
    "\n",
    "$$\n",
    "H\n",
    "=\n",
    "-J\\sum_{\\langle i,j \\rangle}S_iS_j\n",
    "-\n",
    "B\\sum_iS_i\n",
    "$$\n",
    "\n",
    "Usando condiciones de contorno periódicas y tomando la energía en unidades de $k_B$ (esto es, tomando $k_B=1$) implemente un programa para simular las propiedades termodinámicas del modelo usando el algoritmo de Metropolis.\n",
    "\n",
    "### Algoritmo de Metropolis\n",
    "\n",
    "El algoritmo de Metropolis permite simular sistemas en equilibrio termodinámico mediante una cadena de configuraciones que respeta la distribución de Boltzmann.  \n",
    "En el caso del modelo de Ising en 2D, una configuración corresponde al estado de todos los espines en la red.\n",
    "\n",
    "1. **Inicialización de la configuración**: Elegir una configuración inicial arbitraria $ \\alpha $.\n",
    "\n",
    "    *Ising:* $ \\alpha = (S_1, S_2, \\dots, s_N)$, con $s_i = \\pm 1$, representa todos los espines iniciales de la red.  \n",
    "\n",
    "2. **Selección de un espín candidato**: Elegir una nueva configuración $\\alpha'$ por algún método y se calcula $\\Delta E = E(\\alpha') - E(\\alpha)$\n",
    "\n",
    "    *Ising:* Elegir un sitio $ i $ de la red y proponer un cambio (flip) de espín: $ S_i \\to -S_i $\n",
    "     \n",
    "   - El sitio puede elegirse:\n",
    "       - **Secuencialmente:** recorrer todos los sitios en orden.\n",
    "       - **Aleatoriamente:** seleccionar con probabilidad uniforme $ 1/N $.\n",
    "\n",
    "3. **Criterio de aceptación**\n",
    "   - Si $ \\Delta E \\leq 0 $, aceptar siempre el cambio.  \n",
    "   - Si $ \\Delta E > 0 $, aceptar el cambio con probabilidad: $p = e^{-\\beta \\Delta E}$ y se rechaza con probabilidad $1-p=1- e^{-\\beta \\Delta E}$.\n",
    "\n",
    "    Para implementar esto en el código:  \n",
    "     - Generar un número aleatorio $ r \\in [0,1) $.  \n",
    "     - Aceptar el cambio si $ r < p $.  \n",
    "\n",
    "4. **Actualización de la configuración**\n",
    "   - Si el cambio se acepta, la nueva configuración $ \\alpha' $ pasa a ser el estado actual.  \n",
    "   - Si se rechaza, se mantiene la configuración $ \\alpha $.\n",
    "\n",
    "5. **Repetición del proceso**\n",
    "   - Repetir los pasos 2–5 muchas veces para generar una cadena de configuraciones.\n",
    "   - Cada barrido de $ N $ intentos de flip se considera un **Monte Carlo step (MCS)**."
   ]
  },
  {
   "cell_type": "markdown",
   "id": "316eab12",
   "metadata": {},
   "source": [
    "## Código\n",
    "-----"
   ]
  },
  {
   "cell_type": "markdown",
   "id": "ec10e0ab",
   "metadata": {},
   "source": [
    "### Funciones"
   ]
  },
  {
   "cell_type": "code",
   "execution_count": 17,
   "id": "56e8e7e0",
   "metadata": {},
   "outputs": [
    {
     "data": {
      "text/plain": [
       "h_ising_2d (generic function with 1 method)"
      ]
     },
     "metadata": {},
     "output_type": "display_data"
    }
   ],
   "source": [
    "# Hamiltoniano de Ising 2d\n",
    "\n",
    "function h_ising_2d(spins; J=1.0, h=0.0)\n",
    "    Lx, Ly = size(spins)\n",
    "    H = 0.0\n",
    "\n",
    "    for x in 1:Lx\n",
    "        for y in 1:Ly\n",
    "            # Interacción con vecinos periódicos\n",
    "            H -= J * spins[x, y] * (spins[mod1(x + 1, Lx), y] + spins[x, mod1(y + 1, Ly)])\n",
    "            # Campo magnético externo\n",
    "            H -= h * spins[x, y]\n",
    "        end\n",
    "    end\n",
    "\n",
    "    return H\n",
    "end\n"
   ]
  },
  {
   "cell_type": "code",
   "execution_count": 18,
   "id": "fac1cd2b",
   "metadata": {},
   "outputs": [
    {
     "name": "stdout",
     "output_type": "stream",
     "text": [
      "5.5\n"
     ]
    }
   ],
   "source": [
    "s = [1 -1 1; -1 1 -1; 1 -1 1]\n",
    "println(h_ising_2d(s, J=1.0, h=0.5))  # Ejemplo de uso"
   ]
  }
 ],
 "metadata": {
  "kernelspec": {
   "display_name": "Julia 1.11.5",
   "language": "julia",
   "name": "julia-1.11"
  },
  "language_info": {
   "file_extension": ".jl",
   "mimetype": "application/julia",
   "name": "julia",
   "version": "1.11.5"
  }
 },
 "nbformat": 4,
 "nbformat_minor": 5
}
