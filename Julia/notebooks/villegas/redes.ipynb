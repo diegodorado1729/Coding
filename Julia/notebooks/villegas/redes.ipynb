{
 "cells": [
  {
   "cell_type": "code",
   "execution_count": null,
   "metadata": {},
   "outputs": [],
   "source": [
    "#Carga de datos\n",
    "using DelimitedFiles\n",
    "using DataFrames\n",
    "using CSV\n",
    "\n",
    "# Especifica la ruta del archivo TSV\n",
    "# http://konect.cc/networks/brunson_south-africa/\n",
    "ruta_archivo1 = \n",
    "\"D:\\\\DIEGO\\\\COMPUTADORAS\\\\Coding\\\\Julia\\\\brunson_south-africa\\\\red-south-africa.tsv\"\n",
    "\n",
    "# http://konect.cc/networks/moreno_taro/\n",
    "ruta_archivo2=\n",
    "\"D:\\\\DIEGO\\\\COMPUTADORAS\\\\Coding\\\\Julia\\\\moreno_taro\\\\red-taro.tsv\"\n",
    "\n",
    "# Carga el archivo TSV en una matriz\n",
    "data1 = readdlm(ruta_archivo1,' ', Int)\n",
    "data2 = readdlm(ruta_archivo2,' ', Int)\n",
    "\n",
    "println(data1)\n",
    "println(data2)"
   ]
  },
  {
   "cell_type": "code",
   "execution_count": null,
   "metadata": {},
   "outputs": [],
   "source": [
    "function print_matrix(m)\n",
    "    for i in 1:size(m, 1)\n",
    "        println(m[i,:])\n",
    "    end\n",
    "end"
   ]
  }
 ],
 "metadata": {
  "language_info": {
   "name": "python"
  }
 },
 "nbformat": 4,
 "nbformat_minor": 2
}
