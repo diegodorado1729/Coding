{
 "cells": [
  {
   "cell_type": "markdown",
   "metadata": {},
   "source": [
    "# Calculadora de Autovalores y autovectores de una matriz $n\\times n$"
   ]
  },
  {
   "cell_type": "markdown",
   "metadata": {
    "vscode": {
     "languageId": "plaintext"
    }
   },
   "source": [
    "Sea $A$ una matriz $n \\times n$. Definimos $v$ y $\\lambda$ como un autovector y un autovalor respectivamente de $A$ si cumplen con lo siguiente:\n",
    "\n",
    "\\begin{align}\n",
    "    Av=\\lambda v\\\\\n",
    "    Av-\\lambda v=0\\\\\n",
    "    (A-\\lambda I)v=0\n",
    "\\end{align}\n",
    "\n",
    "Esta ecuación tiene solución no nula de $v$ si se cumple que: \n",
    "\n",
    "\\begin{align*}\n",
    "    p_A(\\lambda)=det(A-\\lambda I)=0 \\tag{4}\n",
    "\\end{align*}\n",
    "\n",
    "donde $p_A(\\lambda)$ se define como **Polinomio característico** de $A$.\n",
    "\n",
    "Según el Teorema Fundamental del Álgebra, para un matriz A $n \\times n$, la ecuación $p_A(\\lambda)=0$ tiene exactamente $n$ raíces, teniendo en cuenta su multiplicidad. \n"
   ]
  },
  {
   "cell_type": "code",
   "execution_count": 2,
   "metadata": {},
   "outputs": [
    {
     "name": "stdout",
     "output_type": "stream",
     "text": [
      "Los autovalores de la matriz A son : [-1.0, 3.0]\n",
      "\n",
      "Los autovectores de la matriz A son : [-0.7071067811865475 0.7071067811865475; 0.7071067811865475 0.7071067811865475]\n"
     ]
    }
   ],
   "source": [
    "using LinearAlgebra\n",
    "\n",
    "A = [1.0 2.0; 2.0 1.0]  # Ejemplo de matriz 2x2\n",
    "eigen_A = eigen(A)\n",
    "\n",
    "autovalores = eigen_A.values\n",
    "autovectores = eigen_A.vectors\n",
    "\n",
    "println(\"Los autovalores de la matriz A son : \", autovalores)\n",
    "println(\"\\nLos autovectores de la matriz A son : \", autovectores)"
   ]
  },
  {
   "cell_type": "code",
   "execution_count": 17,
   "metadata": {},
   "outputs": [
    {
     "name": "stderr",
     "output_type": "stream",
     "text": [
      "\u001b[32m\u001b[1m   Resolving\u001b[22m\u001b[39m package versions...\n",
      "\u001b[32m\u001b[1m  No Changes\u001b[22m\u001b[39m to `C:\\Users\\Diego Dorado\\.julia\\environments\\v1.10\\Project.toml`\n",
      "\u001b[32m\u001b[1m  No Changes\u001b[22m\u001b[39m to `C:\\Users\\Diego Dorado\\.julia\\environments\\v1.10\\Manifest.toml`\n",
      "\u001b[32m\u001b[1m   Resolving\u001b[22m\u001b[39m package versions...\n",
      "\u001b[32m\u001b[1m  No Changes\u001b[22m\u001b[39m to `C:\\Users\\Diego Dorado\\.julia\\environments\\v1.10\\Project.toml`\n",
      "\u001b[32m\u001b[1m  No Changes\u001b[22m\u001b[39m to `C:\\Users\\Diego Dorado\\.julia\\environments\\v1.10\\Manifest.toml`\n",
      "\u001b[32m\u001b[1m   Resolving\u001b[22m\u001b[39m package versions...\n",
      "\u001b[32m\u001b[1m  No Changes\u001b[22m\u001b[39m to `C:\\Users\\Diego Dorado\\.julia\\environments\\v1.10\\Project.toml`\n",
      "\u001b[32m\u001b[1m  No Changes\u001b[22m\u001b[39m to `C:\\Users\\Diego Dorado\\.julia\\environments\\v1.10\\Manifest.toml`\n",
      "\u001b[32m\u001b[1m   Resolving\u001b[22m\u001b[39m package versions...\n",
      "\u001b[32m\u001b[1m  No Changes\u001b[22m\u001b[39m to `C:\\Users\\Diego Dorado\\.julia\\environments\\v1.10\\Project.toml`\n",
      "\u001b[32m\u001b[1m  No Changes\u001b[22m\u001b[39m to `C:\\Users\\Diego Dorado\\.julia\\environments\\v1.10\\Manifest.toml`\n",
      "\u001b[32m\u001b[1m   Resolving\u001b[22m\u001b[39m package versions...\n",
      "\u001b[32m\u001b[1m   Installed\u001b[22m\u001b[39m ArnoldiMethod ─ v0.1.0\n",
      "\u001b[32m\u001b[1m   Installed\u001b[22m\u001b[39m LightGraphs ─── v1.3.5\n",
      "\u001b[32m\u001b[1m    Updating\u001b[22m\u001b[39m `C:\\Users\\Diego Dorado\\.julia\\environments\\v1.10\\Project.toml`\n",
      "  \u001b[90m[093fc24a] \u001b[39m\u001b[92m+ LightGraphs v1.3.5\u001b[39m\n",
      "\u001b[32m\u001b[1m    Updating\u001b[22m\u001b[39m `C:\\Users\\Diego Dorado\\.julia\\environments\\v1.10\\Manifest.toml`\n",
      "\u001b[33m⌅\u001b[39m \u001b[90m[ec485272] \u001b[39m\u001b[95m↓ ArnoldiMethod v0.2.0 ⇒ v0.1.0\u001b[39m\n",
      "  \u001b[90m[093fc24a] \u001b[39m\u001b[92m+ LightGraphs v1.3.5\u001b[39m\n",
      "\u001b[36m\u001b[1m        Info\u001b[22m\u001b[39m Packages marked with \u001b[33m⌅\u001b[39m have new versions available but compatibility constraints restrict them from upgrading. To see why use `status --outdated -m`\n",
      "\u001b[32m\u001b[1mPrecompiling\u001b[22m\u001b[39m project...\n",
      "\u001b[33m  ✓ \u001b[39m\u001b[90mArnoldiMethod\u001b[39m\n",
      "\u001b[32m  ✓ \u001b[39mLightGraphs\n",
      "  2 dependencies successfully precompiled in 12 seconds. 176 already precompiled.\n",
      "  \u001b[33m1\u001b[39m dependency precompiled but a different version is currently loaded. Restart julia to access the new version\n",
      "\u001b[32m\u001b[1m    Updating\u001b[22m\u001b[39m registry at `C:\\Users\\Diego Dorado\\.julia\\registries\\General.toml`\n",
      "\u001b[32m\u001b[1m  No Changes\u001b[22m\u001b[39m to `C:\\Users\\Diego Dorado\\.julia\\environments\\v1.10\\Project.toml`\n",
      "\u001b[32m\u001b[1m  No Changes\u001b[22m\u001b[39m to `C:\\Users\\Diego Dorado\\.julia\\environments\\v1.10\\Manifest.toml`\n"
     ]
    }
   ],
   "source": [
    "using Pkg\n",
    "Pkg.add(\"DataFrames\")\n",
    "Pkg.add(\"CSV\")\n",
    "Pkg.add(\"Plots\")\n",
    "Pkg.add(\"GraphPlot\")\n",
    "Pkg.add(\"LightGraphs\")\n",
    "Pkg.update()"
   ]
  },
  {
   "cell_type": "code",
   "execution_count": 12,
   "metadata": {},
   "outputs": [
    {
     "data": {
      "text/plain": [
       "\"1 2\""
      ]
     },
     "metadata": {},
     "output_type": "display_data"
    }
   ],
   "source": [
    "using DelimitedFiles\n",
    "using DataFrames\n",
    "using CSV\n",
    "\n",
    "# Especifica la ruta del archivo TSV\n",
    "ruta_archivo = \n",
    "\"D:\\\\DIEGO\\\\COMPUTADORAS\\\\Coding\\\\Julia\\\\download.tsv.brunson_south-africa\\\\brunson_south-africa\\\\red-south-africa.tsv\"\n",
    "\n",
    "# Carga el archivo TSV en una matriz\n",
    "data = CSV.File(ruta_archivo; delim='\\t') |> DataFrame\n",
    "\n",
    "data[1,1]"
   ]
  },
  {
   "cell_type": "code",
   "execution_count": 4,
   "metadata": {},
   "outputs": [
    {
     "ename": "TypeError",
     "evalue": "TypeError: in Type{...} expression, expected UnionAll, got Type{DataFrame}",
     "output_type": "error",
     "traceback": [
      "TypeError: in Type{...} expression, expected UnionAll, got Type{DataFrame}\n",
      "\n",
      "Stacktrace:\n",
      " [1] top-level scope\n",
      "   @ d:\\DIEGO\\COMPUTADORAS\\Coding\\Julia\\test1.ipynb:7"
     ]
    }
   ],
   "source": [
    "using CSV\n",
    "using DataFrames\n",
    "using LightGraphs\n",
    "using GraphPlot\n",
    "\n",
    "# 2) Convertir los datos a un DataFrame de enteros\n",
    "datos = convert(DataFrame{Int}, data)\n",
    "\n",
    "# 3) Crear el grafo dirigido\n",
    "g = DiGraph(maximum(datos[:, 1]))\n",
    "\n",
    "# Agregar arcos al grafo\n",
    "for fila in eachrow(datos)\n",
    "    add_edge!(g, fila[1], fila[2])\n",
    "end\n",
    "\n",
    "# Graficar el grafo\n",
    "gplot(g, layout=spectral_layout, nodefillc=\"lightblue\", nodestrokec=\"blue\", node_labels=1:maximum(datos[:, 1]))"
   ]
  }
 ],
 "metadata": {
  "kernelspec": {
   "display_name": "Julia 1.10.3",
   "language": "julia",
   "name": "julia-1.10"
  },
  "language_info": {
   "file_extension": ".jl",
   "mimetype": "application/julia",
   "name": "julia",
   "version": "1.10.3"
  }
 },
 "nbformat": 4,
 "nbformat_minor": 2
}
